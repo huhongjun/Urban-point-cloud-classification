{
 "cells": [
  {
   "cell_type": "markdown",
   "metadata": {},
   "source": [
    "不排除默认点和地面点的训练方法\n",
    "测试集 =》Accuracy: 0.6434281"
   ]
  },
  {
   "cell_type": "code",
   "execution_count": 1,
   "metadata": {},
   "outputs": [],
   "source": [
    "import numpy as np\n",
    "import matplotlib.pyplot as plt\n",
    "import pandas as pd\n",
    "from pyntcloud import PyntCloud\n",
    "from pyntcloud import scalar_fields\n",
    "from sklearn.ensemble import RandomForestClassifier\n",
    "from sklearn.metrics import accuracy_score\n",
    "from sklearn.ensemble import GradientBoostingClassifier\n",
    "from sklearn.neighbors.kde import KernelDensity\n",
    "import pickle\n",
    "#import keras\n",
    "#import tensorflow"
   ]
  },
  {
   "cell_type": "code",
   "execution_count": 3,
   "metadata": {},
   "outputs": [
    {
     "name": "stdout",
     "output_type": "stream",
     "text": [
      "PyntCloud\n",
      "10000000 points with 3 scalar fields\n",
      "0 faces in mesh\n",
      "0 kdtrees\n",
      "0 voxelgrids\n",
      "Centroid: -12.104286193847656, -197.56027221679688, 46.1270637512207\n",
      "Other attributes:\n",
      "\n"
     ]
    }
   ],
   "source": [
    "##The point cloud dataset is taken as input and it is stored in the form of pandas dataframe\n",
    "cloud=PyntCloud.from_file(\"./data/rueMadame_database/GT_Madame1_3.ply\")\n",
    "print(cloud)"
   ]
  },
  {
   "cell_type": "code",
   "execution_count": 4,
   "metadata": {},
   "outputs": [
    {
     "data": {
      "text/html": [
       "<div>\n",
       "<style scoped>\n",
       "    .dataframe tbody tr th:only-of-type {\n",
       "        vertical-align: middle;\n",
       "    }\n",
       "\n",
       "    .dataframe tbody tr th {\n",
       "        vertical-align: top;\n",
       "    }\n",
       "\n",
       "    .dataframe thead th {\n",
       "        text-align: right;\n",
       "    }\n",
       "</style>\n",
       "<table border=\"1\" class=\"dataframe\">\n",
       "  <thead>\n",
       "    <tr style=\"text-align: right;\">\n",
       "      <th></th>\n",
       "      <th>x</th>\n",
       "      <th>y</th>\n",
       "      <th>z</th>\n",
       "      <th>reflectance</th>\n",
       "      <th>label</th>\n",
       "      <th>class</th>\n",
       "    </tr>\n",
       "  </thead>\n",
       "  <tbody>\n",
       "    <tr>\n",
       "      <th>0</th>\n",
       "      <td>-4.727719</td>\n",
       "      <td>-167.917969</td>\n",
       "      <td>48.730968</td>\n",
       "      <td>155.0</td>\n",
       "      <td>2</td>\n",
       "      <td>1</td>\n",
       "    </tr>\n",
       "    <tr>\n",
       "      <th>1</th>\n",
       "      <td>-4.690648</td>\n",
       "      <td>-170.307953</td>\n",
       "      <td>47.476875</td>\n",
       "      <td>135.0</td>\n",
       "      <td>2</td>\n",
       "      <td>1</td>\n",
       "    </tr>\n",
       "    <tr>\n",
       "      <th>2</th>\n",
       "      <td>-4.722405</td>\n",
       "      <td>-167.779922</td>\n",
       "      <td>48.810974</td>\n",
       "      <td>135.0</td>\n",
       "      <td>2</td>\n",
       "      <td>1</td>\n",
       "    </tr>\n",
       "    <tr>\n",
       "      <th>3</th>\n",
       "      <td>-4.795055</td>\n",
       "      <td>-170.033386</td>\n",
       "      <td>47.539791</td>\n",
       "      <td>115.0</td>\n",
       "      <td>2</td>\n",
       "      <td>1</td>\n",
       "    </tr>\n",
       "    <tr>\n",
       "      <th>4</th>\n",
       "      <td>-4.806955</td>\n",
       "      <td>-167.600601</td>\n",
       "      <td>48.839016</td>\n",
       "      <td>115.0</td>\n",
       "      <td>2</td>\n",
       "      <td>1</td>\n",
       "    </tr>\n",
       "  </tbody>\n",
       "</table>\n",
       "</div>"
      ],
      "text/plain": [
       "          x           y          z  reflectance  label  class\n",
       "0 -4.727719 -167.917969  48.730968        155.0      2      1\n",
       "1 -4.690648 -170.307953  47.476875        135.0      2      1\n",
       "2 -4.722405 -167.779922  48.810974        135.0      2      1\n",
       "3 -4.795055 -170.033386  47.539791        115.0      2      1\n",
       "4 -4.806955 -167.600601  48.839016        115.0      2      1"
      ]
     },
     "execution_count": 4,
     "metadata": {},
     "output_type": "execute_result"
    }
   ],
   "source": [
    "cloud.points.head()"
   ]
  },
  {
   "cell_type": "code",
   "execution_count": 5,
   "metadata": {},
   "outputs": [
    {
     "data": {
      "text/plain": [
       "<matplotlib.axes._subplots.AxesSubplot at 0x7fdeb6d9fd68>"
      ]
     },
     "execution_count": 5,
     "metadata": {},
     "output_type": "execute_result"
    },
    {
     "data": {
      "image/png": "[encoded data removed]",
      "text/plain": [
       "<Figure size 432x288 with 1 Axes>"
      ]
     },
     "metadata": {
      "needs_background": "light"
     },
     "output_type": "display_data"
    }
   ],
   "source": [
    "cloud.points.boxplot()"
   ]
  },
  {
   "cell_type": "code",
   "execution_count": 6,
   "metadata": {},
   "outputs": [],
   "source": [
    "##Visualization of point cloud\n",
    "##cloud.plot()"
   ]
  },
  {
   "cell_type": "code",
   "execution_count": 7,
   "metadata": {
    "scrolled": true
   },
   "outputs": [
    {
     "name": "stdout",
     "output_type": "stream",
     "text": [
      "PyntCloud\n",
      "10000000 points with 3 scalar fields\n",
      "0 faces in mesh\n",
      "0 kdtrees\n",
      "0 voxelgrids\n",
      "Centroid: -7.090676784515381, -124.74476623535156, 45.12932205200195\n",
      "Other attributes:\n",
      "\n"
     ]
    }
   ],
   "source": [
    "cloud1=PyntCloud.from_file(\"./data/rueMadame_database/GT_Madame1_2.ply\")\n",
    "print(cloud1)"
   ]
  },
  {
   "cell_type": "code",
   "execution_count": 8,
   "metadata": {},
   "outputs": [],
   "source": [
    "## cloud1.plot()"
   ]
  },
  {
   "cell_type": "code",
   "execution_count": 8,
   "metadata": {},
   "outputs": [],
   "source": [
    "#cloud3=PyntCloud(cloud.points[cloud.points[\"class\"]!=2])\n",
    "#cloud3=PyntCloud(cloud3.points[cloud3.points[\"class\"]!=1])"
   ]
  },
  {
   "cell_type": "code",
   "execution_count": 5,
   "metadata": {},
   "outputs": [
    {
     "data": {
      "text/plain": [
       "1     4769417\n",
       "2     4333059\n",
       "4      790822\n",
       "10      81745\n",
       "14      11463\n",
       "9        3656\n",
       "19       3030\n",
       "15       2542\n",
       "22       1915\n",
       "20        983\n",
       "24        491\n",
       "23        384\n",
       "25        379\n",
       "21        111\n",
       "0           3\n",
       "Name: class, dtype: int64"
      ]
     },
     "execution_count": 5,
     "metadata": {},
     "output_type": "execute_result"
    }
   ],
   "source": [
    "#voxel grid downsampling will be done here\n",
    "#open3d.voxelgrid_downsampling(cloud,voxel=0.5)\n",
    "cloud1.points[\"class\"].value_counts()"
   ]
  },
  {
   "cell_type": "code",
   "execution_count": 10,
   "metadata": {},
   "outputs": [
    {
     "ename": "ImportError",
     "evalue": "pythreejs is needed for plotting with pythreejs backend.",
     "output_type": "error",
     "traceback": [
      "\u001b[0;31m---------------------------------------------------------------------------\u001b[0m",
      "\u001b[0;31mImportError\u001b[0m                               Traceback (most recent call last)",
      "\u001b[0;32m<ipython-input-10-a7dc1028dcce>\u001b[0m in \u001b[0;36m<module>\u001b[0;34m()\u001b[0m\n\u001b[0;32m----> 1\u001b[0;31m \u001b[0mcloud1\u001b[0m\u001b[0;34m.\u001b[0m\u001b[0mplot\u001b[0m\u001b[0;34m(\u001b[0m\u001b[0;34m)\u001b[0m\u001b[0;34m\u001b[0m\u001b[0m\n\u001b[0m",
      "\u001b[0;32m/usr/local/lib/python3.5/dist-packages/pyntcloud-0.1.0-py3.5.egg/pyntcloud/core_class.py\u001b[0m in \u001b[0;36mplot\u001b[0;34m(self, backend, scene, width, height, background, mesh, use_as_color, initial_point_size, cmap, polylines, linewidth, return_scene, output_name, elev, azim)\u001b[0m\n\u001b[1;32m    705\u001b[0m             \u001b[0;32mreturn\u001b[0m \u001b[0mplot_with_matplotlib\u001b[0m\u001b[0;34m(\u001b[0m\u001b[0mself\u001b[0m\u001b[0;34m,\u001b[0m \u001b[0;34m**\u001b[0m\u001b[0margs\u001b[0m\u001b[0;34m)\u001b[0m\u001b[0;34m\u001b[0m\u001b[0m\n\u001b[1;32m    706\u001b[0m         \u001b[0;32mif\u001b[0m \u001b[0mbackend\u001b[0m \u001b[0;34m==\u001b[0m \u001b[0;34m\"pythreejs\"\u001b[0m\u001b[0;34m:\u001b[0m\u001b[0;34m\u001b[0m\u001b[0m\n\u001b[0;32m--> 707\u001b[0;31m             \u001b[0;32mreturn\u001b[0m \u001b[0mplot_with_pythreejs\u001b[0m\u001b[0;34m(\u001b[0m\u001b[0mself\u001b[0m\u001b[0;34m,\u001b[0m \u001b[0;34m**\u001b[0m\u001b[0margs\u001b[0m\u001b[0;34m)\u001b[0m\u001b[0;34m\u001b[0m\u001b[0m\n\u001b[0m\u001b[1;32m    708\u001b[0m         \u001b[0;32melif\u001b[0m \u001b[0mbackend\u001b[0m \u001b[0;34m==\u001b[0m \u001b[0;34m\"threejs\"\u001b[0m\u001b[0;34m:\u001b[0m\u001b[0;34m\u001b[0m\u001b[0m\n\u001b[1;32m    709\u001b[0m             \u001b[0;32mreturn\u001b[0m \u001b[0mplot_with_threejs\u001b[0m\u001b[0;34m(\u001b[0m\u001b[0mself\u001b[0m\u001b[0;34m,\u001b[0m \u001b[0;34m**\u001b[0m\u001b[0margs\u001b[0m\u001b[0;34m)\u001b[0m\u001b[0;34m\u001b[0m\u001b[0m\n",
      "\u001b[0;32m/usr/local/lib/python3.5/dist-packages/pyntcloud-0.1.0-py3.5.egg/pyntcloud/plot/pythreejs_backend.py\u001b[0m in \u001b[0;36mplot_with_pythreejs\u001b[0;34m(cloud, **kwargs)\u001b[0m\n\u001b[1;32m     63\u001b[0m         \u001b[0;32mraise\u001b[0m \u001b[0mImportError\u001b[0m\u001b[0;34m(\u001b[0m\u001b[0;34m\"ipywidgets is needed for plotting with pythreejs backend.\"\u001b[0m\u001b[0;34m)\u001b[0m\u001b[0;34m\u001b[0m\u001b[0m\n\u001b[1;32m     64\u001b[0m     \u001b[0;32mif\u001b[0m \u001b[0mpythreejs\u001b[0m \u001b[0;32mis\u001b[0m \u001b[0;32mNone\u001b[0m\u001b[0;34m:\u001b[0m\u001b[0;34m\u001b[0m\u001b[0m\n\u001b[0;32m---> 65\u001b[0;31m         \u001b[0;32mraise\u001b[0m \u001b[0mImportError\u001b[0m\u001b[0;34m(\u001b[0m\u001b[0;34m\"pythreejs is needed for plotting with pythreejs backend.\"\u001b[0m\u001b[0;34m)\u001b[0m\u001b[0;34m\u001b[0m\u001b[0m\n\u001b[0m\u001b[1;32m     66\u001b[0m     \u001b[0;32mif\u001b[0m \u001b[0mdisplay\u001b[0m \u001b[0;32mis\u001b[0m \u001b[0;32mNone\u001b[0m\u001b[0;34m:\u001b[0m\u001b[0;34m\u001b[0m\u001b[0m\n\u001b[1;32m     67\u001b[0m         \u001b[0;32mraise\u001b[0m \u001b[0mImportError\u001b[0m\u001b[0;34m(\u001b[0m\u001b[0;34m\"IPython is needed for plotting with pythreejs backend.\"\u001b[0m\u001b[0;34m)\u001b[0m\u001b[0;34m\u001b[0m\u001b[0m\n",
      "\u001b[0;31mImportError\u001b[0m: pythreejs is needed for plotting with pythreejs backend."
     ]
    }
   ],
   "source": [
    "## cloud1.plot()"
   ]
  },
  {
   "cell_type": "code",
   "execution_count": 6,
   "metadata": {},
   "outputs": [],
   "source": [
    "##Cacluate 50 neighbours for determining the geometrical features of each point\n",
    "neigh=cloud1.get_neighbors(k=50)\n"
   ]
  },
  {
   "cell_type": "code",
   "execution_count": 7,
   "metadata": {},
   "outputs": [
    {
     "data": {
      "text/plain": [
       "(10000000, 50)"
      ]
     },
     "execution_count": 7,
     "metadata": {},
     "output_type": "execute_result"
    }
   ],
   "source": [
    "neigh.shape"
   ]
  },
  {
   "cell_type": "code",
   "execution_count": 13,
   "metadata": {},
   "outputs": [],
   "source": [
    "#The commented features are not used because the computation is a little high for these features and only the \n",
    "#geometrical features are used\n",
    "'''\n",
    "#kde=KernelDensity(kernel='gaussian',bandwidth=0.2).fit(cloud3.points[['x','y','z']])\n",
    "#density=kde.score_samples(cloud3.points[['x','y','z']])\n",
    "#cloud3.points.add(density,axis=1)\n",
    "\n",
    "#vox=cloud3.add_structure(\"voxelgrid\")\n",
    "#vox_x=cloud3.add_scalar_field(\"voxel_x\",voxelgrid_id=vox)\n",
    "#vox_y=cloud3.add_scalar_field(\"voxel_y\",voxelgrid_id=vox)\n",
    "#vox_n=cloud3.add_scalar_field(\"voxel_n\",voxelgrid_id=vox)\n",
    "#vox_z=cloud3.add_scalar_field(\"voxel_z\",voxelgrid_id=vox)\n",
    "#inc=cloud.add_scalar_field(\"inclination_degrees\")\n",
    "#ori=cloud.add_scalar_field(\"orientation_degrees\")\n",
    "'''\n",
    "eig=cloud1.add_scalar_field(\"eigen_values\",k_neighbors=neigh)\n",
    "ani=cloud1.add_scalar_field(\"anisotropy\",ev=eig)\n",
    "cur=cloud1.add_scalar_field(\"curvature\",ev=eig)\n",
    "eigent=cloud1.add_scalar_field(\"eigenentropy\",ev=eig)\n",
    "su=cloud1.add_scalar_field(\"eigen_sum\",ev=eig)\n",
    "lin=cloud1.add_scalar_field(\"linearity\",ev=eig)\n",
    "om=cloud1.add_scalar_field(\"omnivariance\",ev=eig)\n",
    "pla=cloud1.add_scalar_field(\"planarity\",ev=eig)\n",
    "sph=cloud1.add_scalar_field(\"sphericity\",ev=eig)\n"
   ]
  },
  {
   "cell_type": "code",
   "execution_count": 15,
   "metadata": {},
   "outputs": [
    {
     "data": {
      "text/html": [
       "<div>\n",
       "<style scoped>\n",
       "    .dataframe tbody tr th:only-of-type {\n",
       "        vertical-align: middle;\n",
       "    }\n",
       "\n",
       "    .dataframe tbody tr th {\n",
       "        vertical-align: top;\n",
       "    }\n",
       "\n",
       "    .dataframe thead th {\n",
       "        text-align: right;\n",
       "    }\n",
       "</style>\n",
       "<table border=\"1\" class=\"dataframe\">\n",
       "  <thead>\n",
       "    <tr style=\"text-align: right;\">\n",
       "      <th></th>\n",
       "      <th>x</th>\n",
       "      <th>y</th>\n",
       "      <th>z</th>\n",
       "      <th>reflectance</th>\n",
       "      <th>label</th>\n",
       "      <th>class</th>\n",
       "      <th>e1(51)</th>\n",
       "      <th>e2(51)</th>\n",
       "      <th>e3(51)</th>\n",
       "      <th>anisotropy(51)</th>\n",
       "      <th>curvature(51)</th>\n",
       "      <th>eigenentropy(51)</th>\n",
       "      <th>eigen_sum(51)</th>\n",
       "      <th>linearity(51)</th>\n",
       "      <th>omnivariance(51)</th>\n",
       "      <th>planarity(51)</th>\n",
       "      <th>sphericity(51)</th>\n",
       "    </tr>\n",
       "  </thead>\n",
       "  <tbody>\n",
       "    <tr>\n",
       "      <th>0</th>\n",
       "      <td>-4.727719</td>\n",
       "      <td>-167.917969</td>\n",
       "      <td>48.730968</td>\n",
       "      <td>155.0</td>\n",
       "      <td>2</td>\n",
       "      <td>1</td>\n",
       "      <td>0.002010</td>\n",
       "      <td>0.001838</td>\n",
       "      <td>0.000149</td>\n",
       "      <td>0.926060</td>\n",
       "      <td>0.037189</td>\n",
       "      <td>0.025371</td>\n",
       "      <td>0.003997</td>\n",
       "      <td>0.085686</td>\n",
       "      <td>0.000819</td>\n",
       "      <td>0.840374</td>\n",
       "      <td>0.073940</td>\n",
       "    </tr>\n",
       "    <tr>\n",
       "      <th>1</th>\n",
       "      <td>-4.690648</td>\n",
       "      <td>-170.307953</td>\n",
       "      <td>47.476875</td>\n",
       "      <td>135.0</td>\n",
       "      <td>2</td>\n",
       "      <td>1</td>\n",
       "      <td>0.001785</td>\n",
       "      <td>0.000653</td>\n",
       "      <td>0.000285</td>\n",
       "      <td>0.840181</td>\n",
       "      <td>0.104769</td>\n",
       "      <td>0.018415</td>\n",
       "      <td>0.002724</td>\n",
       "      <td>0.634371</td>\n",
       "      <td>0.000693</td>\n",
       "      <td>0.205810</td>\n",
       "      <td>0.159819</td>\n",
       "    </tr>\n",
       "    <tr>\n",
       "      <th>2</th>\n",
       "      <td>-4.722405</td>\n",
       "      <td>-167.779922</td>\n",
       "      <td>48.810974</td>\n",
       "      <td>135.0</td>\n",
       "      <td>2</td>\n",
       "      <td>1</td>\n",
       "      <td>0.002532</td>\n",
       "      <td>0.001864</td>\n",
       "      <td>0.000300</td>\n",
       "      <td>0.881644</td>\n",
       "      <td>0.063822</td>\n",
       "      <td>0.029286</td>\n",
       "      <td>0.004696</td>\n",
       "      <td>0.263888</td>\n",
       "      <td>0.001123</td>\n",
       "      <td>0.617757</td>\n",
       "      <td>0.118356</td>\n",
       "    </tr>\n",
       "    <tr>\n",
       "      <th>3</th>\n",
       "      <td>-4.795055</td>\n",
       "      <td>-170.033386</td>\n",
       "      <td>47.539791</td>\n",
       "      <td>115.0</td>\n",
       "      <td>2</td>\n",
       "      <td>1</td>\n",
       "      <td>0.002034</td>\n",
       "      <td>0.001184</td>\n",
       "      <td>0.000746</td>\n",
       "      <td>0.633181</td>\n",
       "      <td>0.188236</td>\n",
       "      <td>0.025956</td>\n",
       "      <td>0.003964</td>\n",
       "      <td>0.418097</td>\n",
       "      <td>0.001216</td>\n",
       "      <td>0.215084</td>\n",
       "      <td>0.366819</td>\n",
       "    </tr>\n",
       "    <tr>\n",
       "      <th>4</th>\n",
       "      <td>-4.806955</td>\n",
       "      <td>-167.600601</td>\n",
       "      <td>48.839016</td>\n",
       "      <td>115.0</td>\n",
       "      <td>2</td>\n",
       "      <td>1</td>\n",
       "      <td>0.003185</td>\n",
       "      <td>0.001483</td>\n",
       "      <td>0.000141</td>\n",
       "      <td>0.955599</td>\n",
       "      <td>0.029404</td>\n",
       "      <td>0.029225</td>\n",
       "      <td>0.004810</td>\n",
       "      <td>0.534379</td>\n",
       "      <td>0.000874</td>\n",
       "      <td>0.421220</td>\n",
       "      <td>0.044401</td>\n",
       "    </tr>\n",
       "  </tbody>\n",
       "</table>\n",
       "</div>"
      ],
      "text/plain": [
       "          x           y          z  reflectance  label  class    e1(51)  \\\n",
       "0 -4.727719 -167.917969  48.730968        155.0      2      1  0.002010   \n",
       "1 -4.690648 -170.307953  47.476875        135.0      2      1  0.001785   \n",
       "2 -4.722405 -167.779922  48.810974        135.0      2      1  0.002532   \n",
       "3 -4.795055 -170.033386  47.539791        115.0      2      1  0.002034   \n",
       "4 -4.806955 -167.600601  48.839016        115.0      2      1  0.003185   \n",
       "\n",
       "     e2(51)    e3(51)  anisotropy(51)  curvature(51)  eigenentropy(51)  \\\n",
       "0  0.001838  0.000149        0.926060       0.037189          0.025371   \n",
       "1  0.000653  0.000285        0.840181       0.104769          0.018415   \n",
       "2  0.001864  0.000300        0.881644       0.063822          0.029286   \n",
       "3  0.001184  0.000746        0.633181       0.188236          0.025956   \n",
       "4  0.001483  0.000141        0.955599       0.029404          0.029225   \n",
       "\n",
       "   eigen_sum(51)  linearity(51)  omnivariance(51)  planarity(51)  \\\n",
       "0       0.003997       0.085686          0.000819       0.840374   \n",
       "1       0.002724       0.634371          0.000693       0.205810   \n",
       "2       0.004696       0.263888          0.001123       0.617757   \n",
       "3       0.003964       0.418097          0.001216       0.215084   \n",
       "4       0.004810       0.534379          0.000874       0.421220   \n",
       "\n",
       "   sphericity(51)  \n",
       "0        0.073940  \n",
       "1        0.159819  \n",
       "2        0.118356  \n",
       "3        0.366819  \n",
       "4        0.044401  "
      ]
     },
     "execution_count": 15,
     "metadata": {},
     "output_type": "execute_result"
    }
   ],
   "source": [
    "cloud1.points.head()"
   ]
  },
  {
   "cell_type": "code",
   "execution_count": 16,
   "metadata": {},
   "outputs": [],
   "source": [
    "cloud1.points.to_csv(\"features_calculated_train.csv\",index=False)"
   ]
  },
  {
   "cell_type": "code",
   "execution_count": 17,
   "metadata": {},
   "outputs": [],
   "source": [
    "tree=RandomForestClassifier()"
   ]
  },
  {
   "cell_type": "code",
   "execution_count": 19,
   "metadata": {},
   "outputs": [],
   "source": [
    "\n",
    "cloud1.points.drop(labels=[\"label\"],inplace=True,axis=1)\n",
    "cloud1.points.drop(labels=[\"x\",\"y\",\"z\",\"reflectance\"],inplace=True,axis=1)\n",
    "target=cloud1.points[\"class\"]\n",
    "cloud1.points.drop(labels=[\"class\"],inplace=True,axis=1)"
   ]
  },
  {
   "cell_type": "code",
   "execution_count": 21,
   "metadata": {},
   "outputs": [
    {
     "data": {
      "text/plain": [
       "RandomForestClassifier(bootstrap=True, class_weight=None, criterion='gini',\n",
       "            max_depth=None, max_features='auto', max_leaf_nodes=None,\n",
       "            min_impurity_decrease=0.0, min_impurity_split=None,\n",
       "            min_samples_leaf=1, min_samples_split=2,\n",
       "            min_weight_fraction_leaf=0.0, n_estimators=10, n_jobs=1,\n",
       "            oob_score=False, random_state=None, verbose=0,\n",
       "            warm_start=False)"
      ]
     },
     "execution_count": 21,
     "metadata": {},
     "output_type": "execute_result"
    }
   ],
   "source": [
    "tree.fit(cloud1.points,target)"
   ]
  },
  {
   "cell_type": "code",
   "execution_count": 23,
   "metadata": {},
   "outputs": [
    {
     "name": "stdout",
     "output_type": "stream",
     "text": [
      "Accuracy: 0.9724274\n"
     ]
    }
   ],
   "source": [
    "prediction=tree.predict(cloud1.points)\n",
    "print(\"Accuracy:\",accuracy_score(target,prediction))"
   ]
  },
  {
   "cell_type": "markdown",
   "metadata": {},
   "source": [
    "This is the part where the feature extraction process is applied on the test set"
   ]
  },
  {
   "cell_type": "code",
   "execution_count": 25,
   "metadata": {},
   "outputs": [],
   "source": [
    "#Downsampling not required as the dataset is already cleaned\n",
    "#voxel grid downsampling will be done here\n",
    "#open3d.voxelgrid_downsampling(cloud1,voxel=0.5)\n",
    "#p linkage segmentation and shape distribution histogram"
   ]
  },
  {
   "cell_type": "code",
   "execution_count": 27,
   "metadata": {},
   "outputs": [],
   "source": [
    "# Saving the model\n",
    "import pickle\n",
    "filename = \"random_forest.sav\"\n",
    "pickle.dump(tree,open(filename,'wb'))"
   ]
  },
  {
   "cell_type": "markdown",
   "metadata": {},
   "source": [
    "# Test Set Evaluation"
   ]
  },
  {
   "cell_type": "code",
   "execution_count": 7,
   "metadata": {},
   "outputs": [],
   "source": [
    "model2 = pickle.load(open(\"random_forest.sav\",\"rb\"))"
   ]
  },
  {
   "cell_type": "code",
   "execution_count": 8,
   "metadata": {},
   "outputs": [],
   "source": [
    "neigh1=cloud.get_neighbors(k=50)"
   ]
  },
  {
   "cell_type": "code",
   "execution_count": 9,
   "metadata": {},
   "outputs": [
    {
     "data": {
      "text/plain": [
       "(10000000, 50)"
      ]
     },
     "execution_count": 9,
     "metadata": {},
     "output_type": "execute_result"
    }
   ],
   "source": [
    "neigh1.shape"
   ]
  },
  {
   "cell_type": "code",
   "execution_count": 10,
   "metadata": {},
   "outputs": [
    {
     "name": "stdout",
     "output_type": "stream",
     "text": [
      "eigen values calculated!\n",
      "anisotropy calculated!\n",
      "curvature calculated!\n",
      "eigenentropy calculated!\n",
      "eigen_sum calculated!\n",
      "linearity calculated!\n",
      "omnivariance calculated!\n",
      "planarity calculated!\n",
      "sphericity calculated!\n"
     ]
    }
   ],
   "source": [
    "#kde=KernelDensity(kernel='gaussian',bandwidth=0.2).fit(cloud.points[['x','y','z']])\n",
    "#density=kde.score_samples(cloud.points[['x','y','z']])\n",
    "#cloud.points.add(density,axis=1)\n",
    "#vox=cloud.add_structure(\"voxel_grid\",x_y_z=cloud.points[['x','y','z']])\n",
    "#vox_x=cloud.add_scalar_field(\"voxel_x\",voxelgrid_id=vox)\n",
    "#vox_y=cloud.add_scalar_field(\"voxel_y\",voxelgrid_id=vox)\n",
    "#vox_z=cloud.add_scalar_field(\"voxel_z\",voxelgrid_id=vox)\n",
    "#inc=cloud.add_scalar_field(\"inclination_degrees\")\n",
    "#ori=cloud.add_scalar_field(\"orientation_degrees\")\n",
    "eig=cloud.add_scalar_field(\"eigen_values\",k_neighbors=neigh1)\n",
    "print(\"eigen values calculated!\")\n",
    "ani=cloud.add_scalar_field(\"anisotropy\",ev=eig)\n",
    "print(\"anisotropy calculated!\")\n",
    "cur=cloud.add_scalar_field(\"curvature\",ev=eig)\n",
    "print(\"curvature calculated!\")\n",
    "eigent=cloud.add_scalar_field(\"eigenentropy\",ev=eig)\n",
    "print(\"eigenentropy calculated!\")\n",
    "su=cloud.add_scalar_field(\"eigen_sum\",ev=eig)\n",
    "print(\"eigen_sum calculated!\")\n",
    "lin=cloud.add_scalar_field(\"linearity\",ev=eig)\n",
    "print(\"linearity calculated!\")\n",
    "om=cloud.add_scalar_field(\"omnivariance\",ev=eig)\n",
    "print(\"omnivariance calculated!\")\n",
    "pla=cloud.add_scalar_field(\"planarity\",ev=eig)\n",
    "print(\"planarity calculated!\")\n",
    "sph=cloud.add_scalar_field(\"sphericity\",ev=eig)\n",
    "print(\"sphericity calculated!\")"
   ]
  },
  {
   "cell_type": "code",
   "execution_count": 11,
   "metadata": {},
   "outputs": [],
   "source": [
    "cloud.points.drop(labels=[\"label\"],inplace=True,axis=1)\n",
    "target1=cloud.points[\"class\"]\n",
    "cloud.points.drop(labels=[\"class\"],inplace=True,axis=1)\n",
    "cloud.points.drop(labels=[\"x\",\"y\",\"z\",\"reflectance\"],inplace=True,axis=1)"
   ]
  },
  {
   "cell_type": "code",
   "execution_count": 13,
   "metadata": {},
   "outputs": [],
   "source": [
    "prediction1=model2.predict(cloud.points)"
   ]
  },
  {
   "cell_type": "code",
   "execution_count": 14,
   "metadata": {},
   "outputs": [
    {
     "name": "stdout",
     "output_type": "stream",
     "text": [
      "Accuracy: 0.6434281\n"
     ]
    }
   ],
   "source": [
    "print(\"Accuracy:\",accuracy_score(target1,prediction1))"
   ]
  },
  {
   "cell_type": "code",
   "execution_count": null,
   "metadata": {},
   "outputs": [],
   "source": []
  }
 ],
 "metadata": {
  "kernelspec": {
   "display_name": "Python3.7(Urban)",
   "language": "python",
   "name": "urban"
  },
  "language_info": {
   "codemirror_mode": {
    "name": "ipython",
    "version": 3
   },
   "file_extension": ".py",
   "mimetype": "text/x-python",
   "name": "python",
   "nbconvert_exporter": "python",
   "pygments_lexer": "ipython3",
   "version": "3.7.2"
  }
 },
 "nbformat": 4,
 "nbformat_minor": 2
}
