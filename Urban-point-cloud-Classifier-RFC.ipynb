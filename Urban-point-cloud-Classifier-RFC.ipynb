{
 "cells": [
  {
   "cell_type": "markdown",
   "metadata": {},
   "source": [
    "注解：\n",
    "1. 好像是用sklearn的随机森林分类器做点云分类，并没有使用深度学习; \n",
    "3. 用[pyntcloud](https://github.com/daavoo/pyntcloud)提取了各种各样的特征； \n",
    "4. 17个类别,使用的数据集：[Paris-rue-Madame database](http://cmm.mines-paristech.fr/Projects/TerraMobilita/rueMadame_database.zip)，数据集是两个ply文件分别充当训练集和测试集，都是1千万个点，排除地面点和默认点，剩下90万个点   \n"
   ]
  },
  {
   "cell_type": "markdown",
   "metadata": {},
   "source": [
    "2019.03.14 调通，测试集 Accuracy: 0.9174709432905417\n",
    "\n",
    "![Point Cloud](.\\docu\\Paris-rue-Madame-database.png)"
   ]
  },
  {
   "cell_type": "code",
   "execution_count": 4,
   "metadata": {},
   "outputs": [],
   "source": [
    "import numpy as np\n",
    "import matplotlib.pyplot as plt\n",
    "import pandas as pd\n",
    "from pyntcloud import PyntCloud\n",
    "from pyntcloud import scalar_fields\n",
    "from sklearn.ensemble import RandomForestClassifier\n",
    "from sklearn.metrics import accuracy_score\n",
    "from sklearn.ensemble import GradientBoostingClassifier\n",
    "from sklearn.neighbors.kde import KernelDensity"
   ]
  },
  {
   "cell_type": "code",
   "execution_count": 2,
   "metadata": {},
   "outputs": [],
   "source": [
    "def preProcessData(cld):\n",
    "    ##Cacluate 50 neighbours for determining the geometrical features of each point\n",
    "    neigh=cld.get_neighbors(k=50)\n",
    "    neigh.shape\n",
    "    \n",
    "    #注释的特征暂未使用，因为计算量有点大，目前只有geometrical features使用\n",
    "    '''\n",
    "    #kde=KernelDensity(kernel='gaussian',bandwidth=0.2).fit(cld.points[['x','y','z']])\n",
    "    #density=kde.score_samples(cld.points[['x','y','z']])\n",
    "    #cld.points.add(density,axis=1)\n",
    "\n",
    "    #vox=cld.add_structure(\"voxelgrid\")\n",
    "    #vox_x=cld.add_scalar_field(\"voxel_x\",voxelgrid_id=vox)\n",
    "    #vox_y=cld.add_scalar_field(\"voxel_y\",voxelgrid_id=vox)\n",
    "    #vox_n=cld.add_scalar_field(\"voxel_n\",voxelgrid_id=vox)\n",
    "    #vox_z=cld.add_scalar_field(\"voxel_z\",voxelgrid_id=vox)\n",
    "    #inc=cld.add_scalar_field(\"inclination_degrees\")\n",
    "    #ori=cld.add_scalar_field(\"orientation_degrees\")\n",
    "    '''\n",
    "    eig=   cld.add_scalar_field(\"eigen_values\",k_neighbors=neigh)\n",
    "    ani=   cld.add_scalar_field(\"anisotropy\",ev=eig)\n",
    "    cur=   cld.add_scalar_field(\"curvature\",ev=eig)\n",
    "    eigent=cld.add_scalar_field(\"eigenentropy\",ev=eig)\n",
    "    su=    cld.add_scalar_field(\"eigen_sum\",ev=eig)\n",
    "    lin=   cld.add_scalar_field(\"linearity\",ev=eig)\n",
    "    om=    cld.add_scalar_field(\"omnivariance\",ev=eig)\n",
    "    pla=   cld.add_scalar_field(\"planarity\",ev=eig)\n",
    "    sph=   cld.add_scalar_field(\"sphericity\",ev=eig)\n",
    "    return cld"
   ]
  },
  {
   "cell_type": "markdown",
   "metadata": {},
   "source": [
    "# 训练集数据"
   ]
  },
  {
   "cell_type": "code",
   "execution_count": 3,
   "metadata": {},
   "outputs": [
    {
     "name": "stdout",
     "output_type": "stream",
     "text": [
      "PyntCloud\n",
      "10000000 points with 3 scalar fields\n",
      "0 faces in mesh\n",
      "0 kdtrees\n",
      "0 voxelgrids\n",
      "Centroid: -7.090676784515381, -124.74476623535156, 45.12932205200195\n",
      "Other attributes:\n",
      "\n"
     ]
    }
   ],
   "source": [
    "## 加载训练集点云文件，加载后为pandas dataframe\n",
    "cloud_train=PyntCloud.from_file(\"./data/rueMadame_database/GT_Madame1_2.ply\")\n",
    "print(cloud_train)"
   ]
  },
  {
   "cell_type": "code",
   "execution_count": 4,
   "metadata": {},
   "outputs": [
    {
     "data": {
      "text/html": [
       "<div>\n",
       "<style scoped>\n",
       "    .dataframe tbody tr th:only-of-type {\n",
       "        vertical-align: middle;\n",
       "    }\n",
       "\n",
       "    .dataframe tbody tr th {\n",
       "        vertical-align: top;\n",
       "    }\n",
       "\n",
       "    .dataframe thead th {\n",
       "        text-align: right;\n",
       "    }\n",
       "</style>\n",
       "<table border=\"1\" class=\"dataframe\">\n",
       "  <thead>\n",
       "    <tr style=\"text-align: right;\">\n",
       "      <th></th>\n",
       "      <th>x</th>\n",
       "      <th>y</th>\n",
       "      <th>z</th>\n",
       "      <th>reflectance</th>\n",
       "      <th>label</th>\n",
       "      <th>class</th>\n",
       "    </tr>\n",
       "  </thead>\n",
       "  <tbody>\n",
       "    <tr>\n",
       "      <th>0</th>\n",
       "      <td>4.971637</td>\n",
       "      <td>-79.606361</td>\n",
       "      <td>43.221432</td>\n",
       "      <td>135.0</td>\n",
       "      <td>13</td>\n",
       "      <td>1</td>\n",
       "    </tr>\n",
       "    <tr>\n",
       "      <th>1</th>\n",
       "      <td>3.571728</td>\n",
       "      <td>-81.574989</td>\n",
       "      <td>42.445904</td>\n",
       "      <td>195.0</td>\n",
       "      <td>323</td>\n",
       "      <td>2</td>\n",
       "    </tr>\n",
       "    <tr>\n",
       "      <th>2</th>\n",
       "      <td>4.993350</td>\n",
       "      <td>-79.458405</td>\n",
       "      <td>43.303757</td>\n",
       "      <td>135.0</td>\n",
       "      <td>13</td>\n",
       "      <td>1</td>\n",
       "    </tr>\n",
       "    <tr>\n",
       "      <th>3</th>\n",
       "      <td>3.720481</td>\n",
       "      <td>-81.474182</td>\n",
       "      <td>42.465771</td>\n",
       "      <td>195.0</td>\n",
       "      <td>323</td>\n",
       "      <td>2</td>\n",
       "    </tr>\n",
       "    <tr>\n",
       "      <th>4</th>\n",
       "      <td>5.009287</td>\n",
       "      <td>-79.310478</td>\n",
       "      <td>43.387627</td>\n",
       "      <td>155.0</td>\n",
       "      <td>13</td>\n",
       "      <td>1</td>\n",
       "    </tr>\n",
       "  </tbody>\n",
       "</table>\n",
       "</div>"
      ],
      "text/plain": [
       "          x          y          z  reflectance  label  class\n",
       "0  4.971637 -79.606361  43.221432        135.0     13      1\n",
       "1  3.571728 -81.574989  42.445904        195.0    323      2\n",
       "2  4.993350 -79.458405  43.303757        135.0     13      1\n",
       "3  3.720481 -81.474182  42.465771        195.0    323      2\n",
       "4  5.009287 -79.310478  43.387627        155.0     13      1"
      ]
     },
     "execution_count": 4,
     "metadata": {},
     "output_type": "execute_result"
    }
   ],
   "source": [
    "cloud_train.points.head()"
   ]
  },
  {
   "cell_type": "code",
   "execution_count": 5,
   "metadata": {},
   "outputs": [
    {
     "data": {
      "text/html": [
       "<div>\n",
       "<style scoped>\n",
       "    .dataframe tbody tr th:only-of-type {\n",
       "        vertical-align: middle;\n",
       "    }\n",
       "\n",
       "    .dataframe tbody tr th {\n",
       "        vertical-align: top;\n",
       "    }\n",
       "\n",
       "    .dataframe thead th {\n",
       "        text-align: right;\n",
       "    }\n",
       "</style>\n",
       "<table border=\"1\" class=\"dataframe\">\n",
       "  <thead>\n",
       "    <tr style=\"text-align: right;\">\n",
       "      <th></th>\n",
       "      <th>x</th>\n",
       "      <th>y</th>\n",
       "      <th>z</th>\n",
       "      <th>reflectance</th>\n",
       "      <th>label</th>\n",
       "      <th>class</th>\n",
       "    </tr>\n",
       "  </thead>\n",
       "  <tbody>\n",
       "    <tr>\n",
       "      <th>count</th>\n",
       "      <td>1.000000e+07</td>\n",
       "      <td>1.000000e+07</td>\n",
       "      <td>1.000000e+07</td>\n",
       "      <td>1.000000e+07</td>\n",
       "      <td>1.000000e+07</td>\n",
       "      <td>1.000000e+07</td>\n",
       "    </tr>\n",
       "    <tr>\n",
       "      <th>mean</th>\n",
       "      <td>-7.090677e+00</td>\n",
       "      <td>-1.247448e+02</td>\n",
       "      <td>4.512932e+01</td>\n",
       "      <td>1.756020e+02</td>\n",
       "      <td>1.909009e+02</td>\n",
       "      <td>1.779957e+00</td>\n",
       "    </tr>\n",
       "    <tr>\n",
       "      <th>std</th>\n",
       "      <td>5.711431e+00</td>\n",
       "      <td>2.501587e+01</td>\n",
       "      <td>3.450395e+00</td>\n",
       "      <td>4.445920e+01</td>\n",
       "      <td>1.272395e+02</td>\n",
       "      <td>1.324664e+00</td>\n",
       "    </tr>\n",
       "    <tr>\n",
       "      <th>min</th>\n",
       "      <td>-2.431293e+01</td>\n",
       "      <td>-1.763527e+02</td>\n",
       "      <td>3.827620e+01</td>\n",
       "      <td>0.000000e+00</td>\n",
       "      <td>0.000000e+00</td>\n",
       "      <td>0.000000e+00</td>\n",
       "    </tr>\n",
       "    <tr>\n",
       "      <th>25%</th>\n",
       "      <td>-1.188609e+01</td>\n",
       "      <td>-1.470673e+02</td>\n",
       "      <td>4.262190e+01</td>\n",
       "      <td>1.350000e+02</td>\n",
       "      <td>6.200000e+01</td>\n",
       "      <td>1.000000e+00</td>\n",
       "    </tr>\n",
       "    <tr>\n",
       "      <th>50%</th>\n",
       "      <td>-6.908839e+00</td>\n",
       "      <td>-1.227259e+02</td>\n",
       "      <td>4.338097e+01</td>\n",
       "      <td>1.750000e+02</td>\n",
       "      <td>1.460000e+02</td>\n",
       "      <td>2.000000e+00</td>\n",
       "    </tr>\n",
       "    <tr>\n",
       "      <th>75%</th>\n",
       "      <td>-3.145591e+00</td>\n",
       "      <td>-1.038506e+02</td>\n",
       "      <td>4.698285e+01</td>\n",
       "      <td>1.950000e+02</td>\n",
       "      <td>3.230000e+02</td>\n",
       "      <td>2.000000e+00</td>\n",
       "    </tr>\n",
       "    <tr>\n",
       "      <th>max</th>\n",
       "      <td>1.249017e+01</td>\n",
       "      <td>-7.360262e+01</td>\n",
       "      <td>5.916681e+01</td>\n",
       "      <td>2.550000e+02</td>\n",
       "      <td>3.230000e+02</td>\n",
       "      <td>2.500000e+01</td>\n",
       "    </tr>\n",
       "  </tbody>\n",
       "</table>\n",
       "</div>"
      ],
      "text/plain": [
       "                  x             y             z   reflectance         label  \\\n",
       "count  1.000000e+07  1.000000e+07  1.000000e+07  1.000000e+07  1.000000e+07   \n",
       "mean  -7.090677e+00 -1.247448e+02  4.512932e+01  1.756020e+02  1.909009e+02   \n",
       "std    5.711431e+00  2.501587e+01  3.450395e+00  4.445920e+01  1.272395e+02   \n",
       "min   -2.431293e+01 -1.763527e+02  3.827620e+01  0.000000e+00  0.000000e+00   \n",
       "25%   -1.188609e+01 -1.470673e+02  4.262190e+01  1.350000e+02  6.200000e+01   \n",
       "50%   -6.908839e+00 -1.227259e+02  4.338097e+01  1.750000e+02  1.460000e+02   \n",
       "75%   -3.145591e+00 -1.038506e+02  4.698285e+01  1.950000e+02  3.230000e+02   \n",
       "max    1.249017e+01 -7.360262e+01  5.916681e+01  2.550000e+02  3.230000e+02   \n",
       "\n",
       "              class  \n",
       "count  1.000000e+07  \n",
       "mean   1.779957e+00  \n",
       "std    1.324664e+00  \n",
       "min    0.000000e+00  \n",
       "25%    1.000000e+00  \n",
       "50%    2.000000e+00  \n",
       "75%    2.000000e+00  \n",
       "max    2.500000e+01  "
      ]
     },
     "execution_count": 5,
     "metadata": {},
     "output_type": "execute_result"
    }
   ],
   "source": [
    "cloud_train.points.describe()"
   ]
  },
  {
   "cell_type": "code",
   "execution_count": 6,
   "metadata": {},
   "outputs": [
    {
     "data": {
      "text/plain": [
       "<matplotlib.axes._subplots.AxesSubplot at 0x7fb9893b6358>"
      ]
     },
     "execution_count": 6,
     "metadata": {},
     "output_type": "execute_result"
    },
    {
     "data": {
      "image/png": "[encoded data removed]",
      "text/plain": [
       "<Figure size 432x288 with 1 Axes>"
      ]
     },
     "metadata": {
      "needs_background": "light"
     },
     "output_type": "display_data"
    }
   ],
   "source": [
    "cloud_train.points.boxplot() # 图形化展示describe()"
   ]
  },
  {
   "cell_type": "code",
   "execution_count": 7,
   "metadata": {},
   "outputs": [],
   "source": [
    "##Visualization of point cloud\n",
    "# cloud_train.plot()"
   ]
  },
  {
   "cell_type": "markdown",
   "metadata": {},
   "source": [
    "# 测试集数据"
   ]
  },
  {
   "cell_type": "code",
   "execution_count": 8,
   "metadata": {},
   "outputs": [
    {
     "name": "stdout",
     "output_type": "stream",
     "text": [
      "PyntCloud\n",
      "10000000 points with 3 scalar fields\n",
      "0 faces in mesh\n",
      "0 kdtrees\n",
      "0 voxelgrids\n",
      "Centroid: -12.104286193847656, -197.56027221679688, 46.1270637512207\n",
      "Other attributes:\n",
      "\n"
     ]
    }
   ],
   "source": [
    "cloud_test=PyntCloud.from_file(\"./data/rueMadame_database/GT_Madame1_3.ply\")\n",
    "print(cloud_test)"
   ]
  },
  {
   "cell_type": "code",
   "execution_count": 9,
   "metadata": {},
   "outputs": [],
   "source": [
    "#cloud_test.plot()"
   ]
  },
  {
   "cell_type": "markdown",
   "metadata": {},
   "source": [
    "# 点云地物分类标准 \n",
    "1默认点，2地面点，345-低中高，7低噪，8关键，9临建，10桥梁，\n",
    "11铁路，12公路，13不河流，14湖泊，15变电站，16导线，17铁塔\n",
    "18交跨上，19交跨下，20地线，21其他，22船舶汽车，23其他线路\n",
    "24共塔其他线，25通航河流，26铁路承力索，27引流线，28绝缘子"
   ]
  },
  {
   "cell_type": "code",
   "execution_count": 10,
   "metadata": {},
   "outputs": [],
   "source": [
    "# 排除地面点和默认点\n",
    "cloud_train=PyntCloud(cloud_train.points[cloud_train.points[\"class\"]!=2])\n",
    "cloud_train=PyntCloud(cloud_train.points[cloud_train.points[\"class\"]!=1])"
   ]
  },
  {
   "cell_type": "code",
   "execution_count": 11,
   "metadata": {},
   "outputs": [
    {
     "data": {
      "text/plain": [
       "4     790822\n",
       "10     81745\n",
       "14     11463\n",
       "9       3656\n",
       "19      3030\n",
       "15      2542\n",
       "22      1915\n",
       "20       983\n",
       "24       491\n",
       "23       384\n",
       "25       379\n",
       "21       111\n",
       "0          3\n",
       "Name: class, dtype: int64"
      ]
     },
     "execution_count": 11,
     "metadata": {},
     "output_type": "execute_result"
    }
   ],
   "source": [
    "#用open3做三维网格下采样 voxel grid downsampling\n",
    "#open3d.voxelgrid_downsampling(cloud,voxel=0.5)\n",
    "cloud_train.points[\"class\"].value_counts()"
   ]
  },
  {
   "cell_type": "code",
   "execution_count": 12,
   "metadata": {},
   "outputs": [],
   "source": [
    "# cloud_train.plot()"
   ]
  },
  {
   "cell_type": "code",
   "execution_count": null,
   "metadata": {},
   "outputs": [],
   "source": []
  },
  {
   "cell_type": "code",
   "execution_count": 13,
   "metadata": {},
   "outputs": [
    {
     "data": {
      "text/html": [
       "<div>\n",
       "<style scoped>\n",
       "    .dataframe tbody tr th:only-of-type {\n",
       "        vertical-align: middle;\n",
       "    }\n",
       "\n",
       "    .dataframe tbody tr th {\n",
       "        vertical-align: top;\n",
       "    }\n",
       "\n",
       "    .dataframe thead th {\n",
       "        text-align: right;\n",
       "    }\n",
       "</style>\n",
       "<table border=\"1\" class=\"dataframe\">\n",
       "  <thead>\n",
       "    <tr style=\"text-align: right;\">\n",
       "      <th></th>\n",
       "      <th>e1(51)</th>\n",
       "      <th>e2(51)</th>\n",
       "      <th>e3(51)</th>\n",
       "      <th>anisotropy(51)</th>\n",
       "      <th>curvature(51)</th>\n",
       "      <th>eigenentropy(51)</th>\n",
       "      <th>eigen_sum(51)</th>\n",
       "      <th>linearity(51)</th>\n",
       "      <th>omnivariance(51)</th>\n",
       "      <th>planarity(51)</th>\n",
       "      <th>sphericity(51)</th>\n",
       "    </tr>\n",
       "  </thead>\n",
       "  <tbody>\n",
       "    <tr>\n",
       "      <th>12801</th>\n",
       "      <td>0.006112</td>\n",
       "      <td>0.004801</td>\n",
       "      <td>0.001285</td>\n",
       "      <td>0.789751</td>\n",
       "      <td>0.105350</td>\n",
       "      <td>0.065343</td>\n",
       "      <td>0.012198</td>\n",
       "      <td>0.214527</td>\n",
       "      <td>0.003353</td>\n",
       "      <td>0.575223</td>\n",
       "      <td>0.210249</td>\n",
       "    </tr>\n",
       "    <tr>\n",
       "      <th>12831</th>\n",
       "      <td>0.005869</td>\n",
       "      <td>0.002909</td>\n",
       "      <td>0.001102</td>\n",
       "      <td>0.812179</td>\n",
       "      <td>0.111569</td>\n",
       "      <td>0.054649</td>\n",
       "      <td>0.009880</td>\n",
       "      <td>0.504367</td>\n",
       "      <td>0.002660</td>\n",
       "      <td>0.307812</td>\n",
       "      <td>0.187821</td>\n",
       "    </tr>\n",
       "    <tr>\n",
       "      <th>12860</th>\n",
       "      <td>0.006022</td>\n",
       "      <td>0.002450</td>\n",
       "      <td>0.001185</td>\n",
       "      <td>0.803149</td>\n",
       "      <td>0.122751</td>\n",
       "      <td>0.053501</td>\n",
       "      <td>0.009657</td>\n",
       "      <td>0.593193</td>\n",
       "      <td>0.002596</td>\n",
       "      <td>0.209956</td>\n",
       "      <td>0.196851</td>\n",
       "    </tr>\n",
       "    <tr>\n",
       "      <th>12888</th>\n",
       "      <td>0.006207</td>\n",
       "      <td>0.002183</td>\n",
       "      <td>0.001130</td>\n",
       "      <td>0.817957</td>\n",
       "      <td>0.118689</td>\n",
       "      <td>0.052587</td>\n",
       "      <td>0.009520</td>\n",
       "      <td>0.648256</td>\n",
       "      <td>0.002483</td>\n",
       "      <td>0.169701</td>\n",
       "      <td>0.182043</td>\n",
       "    </tr>\n",
       "    <tr>\n",
       "      <th>12914</th>\n",
       "      <td>0.004047</td>\n",
       "      <td>0.002875</td>\n",
       "      <td>0.000990</td>\n",
       "      <td>0.755292</td>\n",
       "      <td>0.125162</td>\n",
       "      <td>0.045970</td>\n",
       "      <td>0.007912</td>\n",
       "      <td>0.289576</td>\n",
       "      <td>0.002259</td>\n",
       "      <td>0.465716</td>\n",
       "      <td>0.244708</td>\n",
       "    </tr>\n",
       "  </tbody>\n",
       "</table>\n",
       "</div>"
      ],
      "text/plain": [
       "         e1(51)    e2(51)    e3(51)  anisotropy(51)  curvature(51)  \\\n",
       "12801  0.006112  0.004801  0.001285        0.789751       0.105350   \n",
       "12831  0.005869  0.002909  0.001102        0.812179       0.111569   \n",
       "12860  0.006022  0.002450  0.001185        0.803149       0.122751   \n",
       "12888  0.006207  0.002183  0.001130        0.817957       0.118689   \n",
       "12914  0.004047  0.002875  0.000990        0.755292       0.125162   \n",
       "\n",
       "       eigenentropy(51)  eigen_sum(51)  linearity(51)  omnivariance(51)  \\\n",
       "12801          0.065343       0.012198       0.214527          0.003353   \n",
       "12831          0.054649       0.009880       0.504367          0.002660   \n",
       "12860          0.053501       0.009657       0.593193          0.002596   \n",
       "12888          0.052587       0.009520       0.648256          0.002483   \n",
       "12914          0.045970       0.007912       0.289576          0.002259   \n",
       "\n",
       "       planarity(51)  sphericity(51)  \n",
       "12801       0.575223        0.210249  \n",
       "12831       0.307812        0.187821  \n",
       "12860       0.209956        0.196851  \n",
       "12888       0.169701        0.182043  \n",
       "12914       0.465716        0.244708  "
      ]
     },
     "execution_count": 13,
     "metadata": {},
     "output_type": "execute_result"
    }
   ],
   "source": [
    "# 清理掉标签数据,防止数据泄露\n",
    "cloud_train_target=cloud_train.points[\"class\"]\n",
    "cloud_train.points.drop(labels=[\"class\"],inplace=True,axis=1)\n",
    "\n",
    "cloud_train_pp = preProcessData(cloud_train)\n",
    "cloud_train_pp.points.drop(labels=[\"label\"],inplace=True,axis=1)\n",
    "cloud_train_pp.points.drop(labels=[\"x\",\"y\",\"z\",\"reflectance\"],inplace=True,axis=1)\n",
    "cloud_train_pp.points.head()\n",
    "cloud_train_pp.points.to_csv(\"features_calculated_train.csv\",index=False)"
   ]
  },
  {
   "cell_type": "code",
   "execution_count": 5,
   "metadata": {},
   "outputs": [],
   "source": [
    "# sklearn的随机森林分类器\n",
    "rfc = RandomForestClassifier()"
   ]
  },
  {
   "cell_type": "code",
   "execution_count": 15,
   "metadata": {},
   "outputs": [
    {
     "name": "stderr",
     "output_type": "stream",
     "text": [
      "/home/huhongjun/anaconda2/envs/urban/lib/python3.7/site-packages/sklearn/ensemble/forest.py:246: FutureWarning: The default value of n_estimators will change from 10 in version 0.20 to 100 in 0.22.\n",
      "  \"10 in version 0.20 to 100 in 0.22.\", FutureWarning)\n"
     ]
    },
    {
     "data": {
      "text/plain": [
       "RandomForestClassifier(bootstrap=True, class_weight=None, criterion='gini',\n",
       "            max_depth=None, max_features='auto', max_leaf_nodes=None,\n",
       "            min_impurity_decrease=0.0, min_impurity_split=None,\n",
       "            min_samples_leaf=1, min_samples_split=2,\n",
       "            min_weight_fraction_leaf=0.0, n_estimators=10, n_jobs=None,\n",
       "            oob_score=False, random_state=None, verbose=0,\n",
       "            warm_start=False)"
      ]
     },
     "execution_count": 15,
     "metadata": {},
     "output_type": "execute_result"
    }
   ],
   "source": [
    "rfc.fit(cloud_train_pp.points,cloud_train_target)"
   ]
  },
  {
   "cell_type": "code",
   "execution_count": 16,
   "metadata": {},
   "outputs": [
    {
     "name": "stdout",
     "output_type": "stream",
     "text": [
      "Accuracy: 0.9821063280759066\n"
     ]
    }
   ],
   "source": [
    "# 预测训练数据\n",
    "prediction=rfc.predict(cloud_train.points)\n",
    "print(\"Accuracy:\",accuracy_score(cloud_train_target,prediction))"
   ]
  },
  {
   "cell_type": "code",
   "execution_count": 6,
   "metadata": {},
   "outputs": [],
   "source": [
    "import pickle\n",
    "filename = \"random_forest.sav\"\n",
    "pickle.dump(rfc,open(filename,'wb'))\n",
    "\n",
    "rfc_model = pickle.load(open(\"random_forest.sav\",\"rb\"))"
   ]
  },
  {
   "cell_type": "markdown",
   "metadata": {},
   "source": [
    "# Test Set Evaluation"
   ]
  },
  {
   "cell_type": "markdown",
   "metadata": {},
   "source": [
    "测试集数据同样需要做数据预处理，提取相关特征。"
   ]
  },
  {
   "cell_type": "code",
   "execution_count": 17,
   "metadata": {},
   "outputs": [],
   "source": [
    "#Downsampling not required as the dataset is already cleaned\n",
    "#voxel grid downsampling will be done here\n",
    "#open3d.voxelgrid_downsampling(cloud1,voxel=0.5)\n",
    "#p linkage segmentation and shape distribution histogram"
   ]
  },
  {
   "cell_type": "code",
   "execution_count": 18,
   "metadata": {},
   "outputs": [],
   "source": [
    "cloud_test=PyntCloud(cloud_test.points[cloud_test.points[\"class\"]!=2])\n",
    "cloud_test=PyntCloud(cloud_test.points[cloud_test.points[\"class\"]!=1])\n",
    "\n",
    "cloud_test_target=cloud_test.points[\"class\"]\n",
    "cloud_test.points.drop(labels=[\"class\"],inplace=True,axis=1)\n",
    "\n",
    "cloud_test_pp = preProcessData(cloud_test)\n",
    "cloud_test_pp.points.drop(labels=[\"label\"],inplace=True,axis=1)\n",
    "cloud_test_pp.points.drop(labels=[\"x\",\"y\",\"z\",\"reflectance\"],inplace=True,axis=1)  "
   ]
  },
  {
   "cell_type": "code",
   "execution_count": 19,
   "metadata": {},
   "outputs": [
    {
     "name": "stdout",
     "output_type": "stream",
     "text": [
      "Accuracy: 0.9187730621434403\n"
     ]
    }
   ],
   "source": [
    "prediction_test=rfc.predict(cloud_test_pp.points)\n",
    "print(\"Accuracy:\",accuracy_score(cloud_test_target,prediction_test))"
   ]
  },
  {
   "cell_type": "code",
   "execution_count": null,
   "metadata": {},
   "outputs": [],
   "source": []
  }
 ],
 "metadata": {
  "kernelspec": {
   "display_name": "Python3.7(Urban)",
   "language": "python",
   "name": "urban"
  },
  "language_info": {
   "codemirror_mode": {
    "name": "ipython",
    "version": 3
   },
   "file_extension": ".py",
   "mimetype": "text/x-python",
   "name": "python",
   "nbconvert_exporter": "python",
   "pygments_lexer": "ipython3",
   "version": "3.7.2"
  }
 },
 "nbformat": 4,
 "nbformat_minor": 2
}
