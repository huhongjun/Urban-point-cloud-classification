{
 "cells": [
  {
   "cell_type": "code",
   "execution_count": 1,
   "metadata": {},
   "outputs": [],
   "source": [
    "import tensorflow as tf\n",
    "from tensorflow import layers\n",
    "\n",
    "tf.logging.set_verbosity(tf.logging.INFO)"
   ]
  },
  {
   "cell_type": "code",
   "execution_count": 2,
   "metadata": {},
   "outputs": [],
   "source": [
    "def model(features, labels, mode):\n",
    "    input_layer = features['x']\n",
    "    \n",
    "    conv1 = layers.conv2d(inputs=input_layer,\n",
    "                         filters=64,\n",
    "                         kernel_size=(1,3),\n",
    "                         padding='valid',\n",
    "                         )\n",
    "    \n",
    "    conv2 = layers.conv2d(inputs=conv1,\n",
    "                         filters=64,\n",
    "                         kernel_size=(1,1),\n",
    "                         padding='valid',\n",
    "                         )\n",
    "    \n",
    "    conv3 = layers.conv2d(inputs=conv2,\n",
    "                         filters=64,\n",
    "                         kernel_size=(1,1),\n",
    "                         padding='valid'\n",
    "                         )\n",
    "    \n",
    "    conv4 = layers.conv2d(inputs=conv3,\n",
    "                         filters=128,\n",
    "                         kernel_size=(1,1),\n",
    "                         padding='valid'\n",
    "                         )\n",
    "    \n",
    "    conv5 = layers.conv2d(inputs=conv4,\n",
    "                         filters=1024,\n",
    "                         kernel_size=(1,1),\n",
    "                         padding='valid'\n",
    "                         )\n",
    "    \n",
    "    \n",
    "    max1 = layers.max_pooling2d(inputs=conv5,\n",
    "                                pool_size=(n,1)\n",
    "                               )\n",
    "    \n",
    "    \n",
    "    reshape1 = layers.flatten(inputs=max1) #Test\n",
    "    \n",
    "    \n",
    "    dense1 = layers.dense(inputs=reshape1,units=512)\n",
    "    \n",
    "    dense2 = layers.dense(inputs=reshape2,units=256)\n",
    "    \n",
    "    dense3 = layers.dense(inputs=reshape3,units=128)\n",
    "    \n",
    "    expand = tf.tile(tf.reshape(dense3,[1,1,1,-1]),[1,n,1,1])\n",
    "    \n",
    "    concat = tf.concat(axis=3, values=[dense3, expand])\n",
    "    \n",
    "    conv6 = layers.conv2d(inputs=concat,\n",
    "                         filters=512,\n",
    "                         kernel_size=(1,1),\n",
    "                         padding=\"valid\"\n",
    "                         )\n",
    "    \n",
    "    conv7 = layers.conv2d(inputs=conv6,\n",
    "                         filters=256,\n",
    "                         kernel_size=(1,1),\n",
    "                         padding='valid'\n",
    "                         )\n",
    "    drop = layers.dropout(inputs=conv7,\n",
    "                           rate=0.7)\n",
    "    \n",
    "    conv8 = layers.conv2d(inputs=drop,\n",
    "                          filters=17,\n",
    "                          kernel_size=(1,1),\n",
    "                          padding='valid'\n",
    "                         )\n",
    "    \n",
    "    logits = tf.squeeze(conv8,[2],name=\"logits\")\n",
    "    \n",
    "    prediction = {\n",
    "        \"classes\" : tf.arg_max(logits,axis=1),\n",
    "        \"probabilities\" : logits\n",
    "    }\n",
    "    \n",
    "    if mode == tf.estimator.ModeKeys.PREDICT:\n",
    "        return tf.estimator.EstimatorSpec(mode=mode, predictions=predictions)\n",
    "    \n",
    "    loss = tf.nn.sparse_softmax_cross_entropy_with_logits(logits=logits,labels=labels)\n",
    "    \n",
    "    if mode == tf.estimator.ModeKeys.TRAIN:\n",
    "        optimizer = tf.train.AdamOptimizer()\n",
    "        train_op = optimizer.minimize(loss=loss,\n",
    "                                      global_step=tf.train.get_global_step())\n",
    "        return tf.estimator.EstimatorSpec(mode=mode,loss=loss,train_op=train_op)\n",
    "    \n",
    "    \n",
    "    \n",
    "        "
   ]
  },
  {
   "cell_type": "code",
   "execution_count": 3,
   "metadata": {},
   "outputs": [
    {
     "name": "stdout",
     "output_type": "stream",
     "text": [
      "INFO:tensorflow:Using default config.\n",
      "INFO:tensorflow:Using config: {'_model_dir': './temp/pointNet/', '_tf_random_seed': None, '_save_summary_steps': 100, '_save_checkpoints_steps': None, '_save_checkpoints_secs': 600, '_session_config': None, '_keep_checkpoint_max': 5, '_keep_checkpoint_every_n_hours': 10000, '_log_step_count_steps': 100, '_train_distribute': None, '_device_fn': None, '_service': None, '_cluster_spec': <tensorflow.python.training.server_lib.ClusterSpec object at 0x7f4f4bb049b0>, '_task_type': 'worker', '_task_id': 0, '_global_id_in_cluster': 0, '_master': '', '_evaluation_master': '', '_is_chief': True, '_num_ps_replicas': 0, '_num_worker_replicas': 1}\n",
      "<tensorflow.python.estimator.estimator.Estimator object at 0x7f4f4bb04d30>\n"
     ]
    }
   ],
   "source": [
    "# Create the estimator\n",
    "classifier = tf.estimator.Estimator(model_fn=model, model_dir='./temp/pointNet/')\n",
    "print(classifier)"
   ]
  },
  {
   "cell_type": "code",
   "execution_count": 4,
   "metadata": {},
   "outputs": [],
   "source": [
    "# Log\n",
    "tensors_to_log = {\"probabilities\": \"logits\"}\n",
    "logging_hook = tf.train.LoggingTensorHook(tensors=tensors_to_log, every_n_iter=10000)"
   ]
  },
  {
   "cell_type": "code",
   "execution_count": 6,
   "metadata": {},
   "outputs": [
    {
     "ename": "NameError",
     "evalue": "name 'pointCld' is not defined",
     "output_type": "error",
     "traceback": [
      "\u001b[0;31m---------------------------------------------------------------------------\u001b[0m",
      "\u001b[0;31mNameError\u001b[0m                                 Traceback (most recent call last)",
      "\u001b[0;32m<ipython-input-6-31d6a3189026>\u001b[0m in \u001b[0;36m<module>\u001b[0;34m\u001b[0m\n\u001b[1;32m      1\u001b[0m \u001b[0;31m# Training\u001b[0m\u001b[0;34m\u001b[0m\u001b[0;34m\u001b[0m\u001b[0m\n\u001b[1;32m      2\u001b[0m \u001b[0;32mimport\u001b[0m \u001b[0mnumpy\u001b[0m \u001b[0;32mas\u001b[0m \u001b[0mnp\u001b[0m\u001b[0;34m\u001b[0m\u001b[0m\n\u001b[0;32m----> 3\u001b[0;31m train_input_fn = tf.estimator.inputs.numpy_input_fn(x={\"x\": np.asarray(pointCld, dtype=np.float32)},\n\u001b[0m\u001b[1;32m      4\u001b[0m y=train_labels, batch_size=1, num_epochs=None, shuffle=True)\n",
      "\u001b[0;31mNameError\u001b[0m: name 'pointCld' is not defined"
     ]
    }
   ],
   "source": [
    "# Training \n",
    "import numpy as np\n",
    "train_input_fn = tf.estimator.inputs.numpy_input_fn(x={\"x\": np.asarray(pointCld, dtype=np.float32)},\n",
    "y=train_labels, batch_size=1, num_epochs=None, shuffle=True)"
   ]
  },
  {
   "cell_type": "code",
   "execution_count": null,
   "metadata": {},
   "outputs": [],
   "source": []
  }
 ],
 "metadata": {
  "kernelspec": {
   "display_name": "Python3.7(Urban)",
   "language": "python",
   "name": "urban"
  },
  "language_info": {
   "codemirror_mode": {
    "name": "ipython",
    "version": 3
   },
   "file_extension": ".py",
   "mimetype": "text/x-python",
   "name": "python",
   "nbconvert_exporter": "python",
   "pygments_lexer": "ipython3",
   "version": "3.7.2"
  }
 },
 "nbformat": 4,
 "nbformat_minor": 2
}
