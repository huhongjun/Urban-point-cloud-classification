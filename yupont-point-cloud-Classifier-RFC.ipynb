{
 "cells": [
  {
   "cell_type": "markdown",
   "metadata": {},
   "source": [
    "注解：\n",
    "1. 好像是用sklearn的随机森林分类器做点云分类，并没有使用深度学习; \n",
    "3. 用[pyntcloud](https://github.com/daavoo/pyntcloud)提取了各种各样的特征； \n",
    "4. 17个类别,使用的数据集：[Paris-rue-Madame database](http://cmm.mines-paristech.fr/Projects/TerraMobilita/rueMadame_database.zip)，数据集是两个ply文件分别充当训练集和测试集，都是1千万个点，排除地面点和默认点，剩下90万个点   \n"
   ]
  },
  {
   "cell_type": "markdown",
   "metadata": {},
   "source": [
    "2019.03.14 调通，测试集 Accuracy: 0.9174709432905417\n",
    "\n",
    "![Point Cloud](.\\docu\\Paris-rue-Madame-database.png)"
   ]
  },
  {
   "cell_type": "code",
   "execution_count": 1,
   "metadata": {},
   "outputs": [],
   "source": [
    "import numpy as np\n",
    "import matplotlib.pyplot as plt\n",
    "import pandas as pd\n",
    "from pyntcloud import PyntCloud\n",
    "from pyntcloud import scalar_fields\n",
    "from sklearn.ensemble import RandomForestClassifier\n",
    "from sklearn.metrics import accuracy_score\n",
    "from sklearn.ensemble import GradientBoostingClassifier\n",
    "from sklearn.neighbors.kde import KernelDensity"
   ]
  },
  {
   "cell_type": "code",
   "execution_count": 2,
   "metadata": {},
   "outputs": [],
   "source": [
    "def preProcessData(cld):\n",
    "    ##Cacluate 50 neighbours for determining the geometrical features of each point\n",
    "    neigh=cld.get_neighbors(k=50)\n",
    "    neigh.shape\n",
    "    \n",
    "    #注释的特征暂未使用，因为计算量有点大，目前只有geometrical features使用\n",
    "    '''\n",
    "    #kde=KernelDensity(kernel='gaussian',bandwidth=0.2).fit(cld.points[['x','y','z']])\n",
    "    #density=kde.score_samples(cld.points[['x','y','z']])\n",
    "    #cld.points.add(density,axis=1)\n",
    "\n",
    "    #vox=cld.add_structure(\"voxelgrid\")\n",
    "    #vox_x=cld.add_scalar_field(\"voxel_x\",voxelgrid_id=vox)\n",
    "    #vox_y=cld.add_scalar_field(\"voxel_y\",voxelgrid_id=vox)\n",
    "    #vox_n=cld.add_scalar_field(\"voxel_n\",voxelgrid_id=vox)\n",
    "    #vox_z=cld.add_scalar_field(\"voxel_z\",voxelgrid_id=vox)\n",
    "    #inc=cld.add_scalar_field(\"inclination_degrees\")\n",
    "    #ori=cld.add_scalar_field(\"orientation_degrees\")\n",
    "    '''\n",
    "    eig=   cld.add_scalar_field(\"eigen_values\",k_neighbors=neigh)\n",
    "    ani=   cld.add_scalar_field(\"anisotropy\",ev=eig)\n",
    "    cur=   cld.add_scalar_field(\"curvature\",ev=eig)\n",
    "    eigent=cld.add_scalar_field(\"eigenentropy\",ev=eig)\n",
    "    su=    cld.add_scalar_field(\"eigen_sum\",ev=eig)\n",
    "    lin=   cld.add_scalar_field(\"linearity\",ev=eig)\n",
    "    om=    cld.add_scalar_field(\"omnivariance\",ev=eig)\n",
    "    pla=   cld.add_scalar_field(\"planarity\",ev=eig)\n",
    "    sph=   cld.add_scalar_field(\"sphericity\",ev=eig)\n",
    "    return cld"
   ]
  },
  {
   "cell_type": "markdown",
   "metadata": {},
   "source": [
    "# 训练集数据"
   ]
  },
  {
   "cell_type": "code",
   "execution_count": 3,
   "metadata": {},
   "outputs": [
    {
     "name": "stdout",
     "output_type": "stream",
     "text": [
      "PyntCloud\n",
      "858414 points with 10 scalar fields\n",
      "0 faces in mesh\n",
      "0 kdtrees\n",
      "0 voxelgrids\n",
      "Centroid: 588568.4603814572, 3415908.319845691, 52.49932002977977\n",
      "Other attributes:\n",
      "\n"
     ]
    }
   ],
   "source": [
    "## 加载训练集点云文件，加载后为pandas dataframe\n",
    "#cloud_train=PyntCloud.from_file(\"./data/yupont/cz_1-9-ml.ply\")\n",
    "cloud_train=PyntCloud.from_file(\"./data/yupont/cz_1-9-ml.csv\",\n",
    "            sep=\",\", header=0, names=[\"x\",\"y\",\"z\",\"R\",\"G\",\"B\",\n",
    "                                      \"PointSourceId\",\"ScanAngleRank\",\n",
    "                                      \"ScanDirectionFlag\",\"reflectance\",\n",
    "                                      \"ReturnNumber\",\"label\",\"class\"])\n",
    "print(cloud_train)"
   ]
  },
  {
   "cell_type": "code",
   "execution_count": 4,
   "metadata": {},
   "outputs": [
    {
     "data": {
      "text/html": [
       "<div>\n",
       "<style scoped>\n",
       "    .dataframe tbody tr th:only-of-type {\n",
       "        vertical-align: middle;\n",
       "    }\n",
       "\n",
       "    .dataframe tbody tr th {\n",
       "        vertical-align: top;\n",
       "    }\n",
       "\n",
       "    .dataframe thead th {\n",
       "        text-align: right;\n",
       "    }\n",
       "</style>\n",
       "<table border=\"1\" class=\"dataframe\">\n",
       "  <thead>\n",
       "    <tr style=\"text-align: right;\">\n",
       "      <th></th>\n",
       "      <th>x</th>\n",
       "      <th>y</th>\n",
       "      <th>z</th>\n",
       "      <th>R</th>\n",
       "      <th>G</th>\n",
       "      <th>B</th>\n",
       "      <th>PointSourceId</th>\n",
       "      <th>ScanAngleRank</th>\n",
       "      <th>ScanDirectionFlag</th>\n",
       "      <th>reflectance</th>\n",
       "      <th>ReturnNumber</th>\n",
       "      <th>label</th>\n",
       "      <th>class</th>\n",
       "    </tr>\n",
       "  </thead>\n",
       "  <tbody>\n",
       "    <tr>\n",
       "      <th>0</th>\n",
       "      <td>588532.900024</td>\n",
       "      <td>3.415956e+06</td>\n",
       "      <td>64.720001</td>\n",
       "      <td>0</td>\n",
       "      <td>0</td>\n",
       "      <td>0</td>\n",
       "      <td>6.0</td>\n",
       "      <td>0</td>\n",
       "      <td>0</td>\n",
       "      <td>2.0</td>\n",
       "      <td>1.0</td>\n",
       "      <td>38.0</td>\n",
       "      <td>16.0</td>\n",
       "    </tr>\n",
       "    <tr>\n",
       "      <th>1</th>\n",
       "      <td>588533.000031</td>\n",
       "      <td>3.415956e+06</td>\n",
       "      <td>64.820000</td>\n",
       "      <td>0</td>\n",
       "      <td>0</td>\n",
       "      <td>0</td>\n",
       "      <td>6.0</td>\n",
       "      <td>0</td>\n",
       "      <td>0</td>\n",
       "      <td>2.0</td>\n",
       "      <td>1.0</td>\n",
       "      <td>71.0</td>\n",
       "      <td>16.0</td>\n",
       "    </tr>\n",
       "    <tr>\n",
       "      <th>2</th>\n",
       "      <td>588533.120026</td>\n",
       "      <td>3.415956e+06</td>\n",
       "      <td>64.770004</td>\n",
       "      <td>0</td>\n",
       "      <td>0</td>\n",
       "      <td>0</td>\n",
       "      <td>6.0</td>\n",
       "      <td>0</td>\n",
       "      <td>0</td>\n",
       "      <td>2.0</td>\n",
       "      <td>1.0</td>\n",
       "      <td>165.0</td>\n",
       "      <td>16.0</td>\n",
       "    </tr>\n",
       "    <tr>\n",
       "      <th>3</th>\n",
       "      <td>588533.190033</td>\n",
       "      <td>3.415956e+06</td>\n",
       "      <td>64.739998</td>\n",
       "      <td>0</td>\n",
       "      <td>0</td>\n",
       "      <td>0</td>\n",
       "      <td>6.0</td>\n",
       "      <td>0</td>\n",
       "      <td>0</td>\n",
       "      <td>2.0</td>\n",
       "      <td>1.0</td>\n",
       "      <td>80.0</td>\n",
       "      <td>16.0</td>\n",
       "    </tr>\n",
       "    <tr>\n",
       "      <th>4</th>\n",
       "      <td>588533.280029</td>\n",
       "      <td>3.415956e+06</td>\n",
       "      <td>64.809998</td>\n",
       "      <td>0</td>\n",
       "      <td>0</td>\n",
       "      <td>0</td>\n",
       "      <td>6.0</td>\n",
       "      <td>0</td>\n",
       "      <td>0</td>\n",
       "      <td>2.0</td>\n",
       "      <td>1.0</td>\n",
       "      <td>14.0</td>\n",
       "      <td>16.0</td>\n",
       "    </tr>\n",
       "  </tbody>\n",
       "</table>\n",
       "</div>"
      ],
      "text/plain": [
       "               x             y          z  R  G  B  PointSourceId  \\\n",
       "0  588532.900024  3.415956e+06  64.720001  0  0  0            6.0   \n",
       "1  588533.000031  3.415956e+06  64.820000  0  0  0            6.0   \n",
       "2  588533.120026  3.415956e+06  64.770004  0  0  0            6.0   \n",
       "3  588533.190033  3.415956e+06  64.739998  0  0  0            6.0   \n",
       "4  588533.280029  3.415956e+06  64.809998  0  0  0            6.0   \n",
       "\n",
       "   ScanAngleRank  ScanDirectionFlag  reflectance  ReturnNumber  label  class  \n",
       "0              0                  0          2.0           1.0   38.0   16.0  \n",
       "1              0                  0          2.0           1.0   71.0   16.0  \n",
       "2              0                  0          2.0           1.0  165.0   16.0  \n",
       "3              0                  0          2.0           1.0   80.0   16.0  \n",
       "4              0                  0          2.0           1.0   14.0   16.0  "
      ]
     },
     "execution_count": 4,
     "metadata": {},
     "output_type": "execute_result"
    }
   ],
   "source": [
    "cloud_train.points.head()"
   ]
  },
  {
   "cell_type": "code",
   "execution_count": 6,
   "metadata": {},
   "outputs": [
    {
     "data": {
      "text/html": [
       "<div>\n",
       "<style scoped>\n",
       "    .dataframe tbody tr th:only-of-type {\n",
       "        vertical-align: middle;\n",
       "    }\n",
       "\n",
       "    .dataframe tbody tr th {\n",
       "        vertical-align: top;\n",
       "    }\n",
       "\n",
       "    .dataframe thead th {\n",
       "        text-align: right;\n",
       "    }\n",
       "</style>\n",
       "<table border=\"1\" class=\"dataframe\">\n",
       "  <thead>\n",
       "    <tr style=\"text-align: right;\">\n",
       "      <th></th>\n",
       "      <th>x</th>\n",
       "      <th>y</th>\n",
       "      <th>z</th>\n",
       "      <th>reflectance</th>\n",
       "      <th>label</th>\n",
       "      <th>class</th>\n",
       "    </tr>\n",
       "  </thead>\n",
       "  <tbody>\n",
       "    <tr>\n",
       "      <th>0</th>\n",
       "      <td>588532.900024</td>\n",
       "      <td>3.415956e+06</td>\n",
       "      <td>64.720001</td>\n",
       "      <td>2.0</td>\n",
       "      <td>38.0</td>\n",
       "      <td>16.0</td>\n",
       "    </tr>\n",
       "    <tr>\n",
       "      <th>1</th>\n",
       "      <td>588533.000031</td>\n",
       "      <td>3.415956e+06</td>\n",
       "      <td>64.820000</td>\n",
       "      <td>2.0</td>\n",
       "      <td>71.0</td>\n",
       "      <td>16.0</td>\n",
       "    </tr>\n",
       "    <tr>\n",
       "      <th>2</th>\n",
       "      <td>588533.120026</td>\n",
       "      <td>3.415956e+06</td>\n",
       "      <td>64.770004</td>\n",
       "      <td>2.0</td>\n",
       "      <td>165.0</td>\n",
       "      <td>16.0</td>\n",
       "    </tr>\n",
       "    <tr>\n",
       "      <th>3</th>\n",
       "      <td>588533.190033</td>\n",
       "      <td>3.415956e+06</td>\n",
       "      <td>64.739998</td>\n",
       "      <td>2.0</td>\n",
       "      <td>80.0</td>\n",
       "      <td>16.0</td>\n",
       "    </tr>\n",
       "    <tr>\n",
       "      <th>4</th>\n",
       "      <td>588533.280029</td>\n",
       "      <td>3.415956e+06</td>\n",
       "      <td>64.809998</td>\n",
       "      <td>2.0</td>\n",
       "      <td>14.0</td>\n",
       "      <td>16.0</td>\n",
       "    </tr>\n",
       "  </tbody>\n",
       "</table>\n",
       "</div>"
      ],
      "text/plain": [
       "               x             y          z  reflectance  label  class\n",
       "0  588532.900024  3.415956e+06  64.720001          2.0   38.0   16.0\n",
       "1  588533.000031  3.415956e+06  64.820000          2.0   71.0   16.0\n",
       "2  588533.120026  3.415956e+06  64.770004          2.0  165.0   16.0\n",
       "3  588533.190033  3.415956e+06  64.739998          2.0   80.0   16.0\n",
       "4  588533.280029  3.415956e+06  64.809998          2.0   14.0   16.0"
      ]
     },
     "execution_count": 6,
     "metadata": {},
     "output_type": "execute_result"
    }
   ],
   "source": [
    "cloud_train.points.rename(columns={\n",
    "    \"scalar_Scalar_field_#7\":'class',\n",
    "    \"scalar_Scalar_field_#6\":'label',\n",
    "    \"scalar_Scalar_field_#5\":'reflectance'},inplace=True)\n",
    "\n",
    "cloud_train.points.drop(labels=[\"R\",\"G\",\"B\",\"ScanAngleRank\",\"PointSourceId\",\"ScanDirectionFlag\",\"ReturnNumber\"],inplace=True,axis=1)\n",
    "\n",
    "cloud_train.points.head()"
   ]
  },
  {
   "cell_type": "code",
   "execution_count": 7,
   "metadata": {},
   "outputs": [
    {
     "data": {
      "text/html": [
       "<div>\n",
       "<style scoped>\n",
       "    .dataframe tbody tr th:only-of-type {\n",
       "        vertical-align: middle;\n",
       "    }\n",
       "\n",
       "    .dataframe tbody tr th {\n",
       "        vertical-align: top;\n",
       "    }\n",
       "\n",
       "    .dataframe thead th {\n",
       "        text-align: right;\n",
       "    }\n",
       "</style>\n",
       "<table border=\"1\" class=\"dataframe\">\n",
       "  <thead>\n",
       "    <tr style=\"text-align: right;\">\n",
       "      <th></th>\n",
       "      <th>x</th>\n",
       "      <th>y</th>\n",
       "      <th>z</th>\n",
       "      <th>reflectance</th>\n",
       "      <th>label</th>\n",
       "      <th>class</th>\n",
       "    </tr>\n",
       "  </thead>\n",
       "  <tbody>\n",
       "    <tr>\n",
       "      <th>count</th>\n",
       "      <td>858414.000000</td>\n",
       "      <td>8.584140e+05</td>\n",
       "      <td>858414.000000</td>\n",
       "      <td>858414.000000</td>\n",
       "      <td>858414.000000</td>\n",
       "      <td>858414.000000</td>\n",
       "    </tr>\n",
       "    <tr>\n",
       "      <th>mean</th>\n",
       "      <td>588568.460381</td>\n",
       "      <td>3.415908e+06</td>\n",
       "      <td>52.499320</td>\n",
       "      <td>1.458038</td>\n",
       "      <td>188.431102</td>\n",
       "      <td>3.662884</td>\n",
       "    </tr>\n",
       "    <tr>\n",
       "      <th>std</th>\n",
       "      <td>18.605081</td>\n",
       "      <td>3.288761e+01</td>\n",
       "      <td>2.801689</td>\n",
       "      <td>0.558350</td>\n",
       "      <td>41.526994</td>\n",
       "      <td>1.500418</td>\n",
       "    </tr>\n",
       "    <tr>\n",
       "      <th>min</th>\n",
       "      <td>588532.880035</td>\n",
       "      <td>3.415827e+06</td>\n",
       "      <td>45.310001</td>\n",
       "      <td>1.000000</td>\n",
       "      <td>10.000000</td>\n",
       "      <td>2.000000</td>\n",
       "    </tr>\n",
       "    <tr>\n",
       "      <th>25%</th>\n",
       "      <td>588553.660034</td>\n",
       "      <td>3.415884e+06</td>\n",
       "      <td>51.150002</td>\n",
       "      <td>1.000000</td>\n",
       "      <td>162.000000</td>\n",
       "      <td>3.000000</td>\n",
       "    </tr>\n",
       "    <tr>\n",
       "      <th>50%</th>\n",
       "      <td>588569.050034</td>\n",
       "      <td>3.415911e+06</td>\n",
       "      <td>52.439999</td>\n",
       "      <td>1.000000</td>\n",
       "      <td>205.000000</td>\n",
       "      <td>4.000000</td>\n",
       "    </tr>\n",
       "    <tr>\n",
       "      <th>75%</th>\n",
       "      <td>588583.510025</td>\n",
       "      <td>3.415936e+06</td>\n",
       "      <td>54.010002</td>\n",
       "      <td>2.000000</td>\n",
       "      <td>217.000000</td>\n",
       "      <td>4.000000</td>\n",
       "    </tr>\n",
       "    <tr>\n",
       "      <th>max</th>\n",
       "      <td>588601.170029</td>\n",
       "      <td>3.415963e+06</td>\n",
       "      <td>77.779999</td>\n",
       "      <td>3.000000</td>\n",
       "      <td>276.000000</td>\n",
       "      <td>20.000000</td>\n",
       "    </tr>\n",
       "  </tbody>\n",
       "</table>\n",
       "</div>"
      ],
      "text/plain": [
       "                   x             y              z    reflectance  \\\n",
       "count  858414.000000  8.584140e+05  858414.000000  858414.000000   \n",
       "mean   588568.460381  3.415908e+06      52.499320       1.458038   \n",
       "std        18.605081  3.288761e+01       2.801689       0.558350   \n",
       "min    588532.880035  3.415827e+06      45.310001       1.000000   \n",
       "25%    588553.660034  3.415884e+06      51.150002       1.000000   \n",
       "50%    588569.050034  3.415911e+06      52.439999       1.000000   \n",
       "75%    588583.510025  3.415936e+06      54.010002       2.000000   \n",
       "max    588601.170029  3.415963e+06      77.779999       3.000000   \n",
       "\n",
       "               label          class  \n",
       "count  858414.000000  858414.000000  \n",
       "mean      188.431102       3.662884  \n",
       "std        41.526994       1.500418  \n",
       "min        10.000000       2.000000  \n",
       "25%       162.000000       3.000000  \n",
       "50%       205.000000       4.000000  \n",
       "75%       217.000000       4.000000  \n",
       "max       276.000000      20.000000  "
      ]
     },
     "execution_count": 7,
     "metadata": {},
     "output_type": "execute_result"
    }
   ],
   "source": [
    "cloud_train.points.describe()"
   ]
  },
  {
   "cell_type": "code",
   "execution_count": 8,
   "metadata": {},
   "outputs": [
    {
     "data": {
      "text/plain": [
       "<matplotlib.axes._subplots.AxesSubplot at 0x7fd3c8b87198>"
      ]
     },
     "execution_count": 8,
     "metadata": {},
     "output_type": "execute_result"
    },
    {
     "data": {
      "image/png": "[encoded data removed]",
      "text/plain": [
       "<Figure size 432x288 with 1 Axes>"
      ]
     },
     "metadata": {
      "needs_background": "light"
     },
     "output_type": "display_data"
    }
   ],
   "source": [
    "cloud_train.points.boxplot() # 图形化展示describe()"
   ]
  },
  {
   "cell_type": "code",
   "execution_count": 9,
   "metadata": {},
   "outputs": [],
   "source": [
    "##Visualization of point cloud\n",
    "# cloud_train.plot()"
   ]
  },
  {
   "cell_type": "markdown",
   "metadata": {},
   "source": [
    "# 点云地物分类标准 \n",
    "1默认点，2地面点，345-低中高，7低噪，8关键，9临建，10桥梁，\n",
    "11铁路，12公路，13不河流，14湖泊，15变电站，16导线，17铁塔\n",
    "18交跨上，19交跨下，20地线，21其他，22船舶汽车，23其他线路\n",
    "24共塔其他线，25通航河流，26铁路承力索，27引流线，28绝缘子"
   ]
  },
  {
   "cell_type": "code",
   "execution_count": 12,
   "metadata": {},
   "outputs": [],
   "source": [
    "# 排除地面点和默认点\n",
    "cloud_train=PyntCloud(cloud_train.points[cloud_train.points[\"class\"]!=2])\n",
    "cloud_train=PyntCloud(cloud_train.points[cloud_train.points[\"class\"]!=1])"
   ]
  },
  {
   "cell_type": "code",
   "execution_count": 13,
   "metadata": {},
   "outputs": [
    {
     "data": {
      "text/plain": [
       "4.0     418676\n",
       "3.0     207484\n",
       "5.0      80790\n",
       "8.0       8045\n",
       "17.0      2687\n",
       "16.0      2272\n",
       "20.0      1103\n",
       "Name: class, dtype: int64"
      ]
     },
     "execution_count": 13,
     "metadata": {},
     "output_type": "execute_result"
    }
   ],
   "source": [
    "#用open3做三维网格下采样 voxel grid downsampling\n",
    "#open3d.voxelgrid_downsampling(cloud,voxel=0.5)\n",
    "cloud_train.points[\"class\"].value_counts()"
   ]
  },
  {
   "cell_type": "code",
   "execution_count": 14,
   "metadata": {},
   "outputs": [],
   "source": [
    "# cloud_train.plot()"
   ]
  },
  {
   "cell_type": "code",
   "execution_count": null,
   "metadata": {},
   "outputs": [],
   "source": []
  },
  {
   "cell_type": "code",
   "execution_count": 15,
   "metadata": {},
   "outputs": [],
   "source": [
    "# 清理掉标签数据,防止数据泄露\n",
    "cloud_train_target=cloud_train.points[\"class\"]\n",
    "cloud_train.points.drop(labels=[\"class\"],inplace=True,axis=1)\n",
    "\n",
    "cloud_train_pp = preProcessData(cloud_train)\n",
    "cloud_train_pp.points.drop(labels=[\"label\"],inplace=True,axis=1)\n",
    "cloud_train_pp.points.drop(labels=[\"x\",\"y\",\"z\",\"reflectance\"],inplace=True,axis=1)\n",
    "cloud_train_pp.points.head()\n",
    "#cloud_train_pp.points.to_csv(\"features_calculated_train.csv\",index=False)"
   ]
  },
  {
   "cell_type": "code",
   "execution_count": 16,
   "metadata": {},
   "outputs": [],
   "source": [
    "cloud_train_pp.points.describe()\n",
    "# sklearn的随机森林分类器\n",
    "rfc = RandomForestClassifier()"
   ]
  },
  {
   "cell_type": "code",
   "execution_count": null,
   "metadata": {},
   "outputs": [],
   "source": []
  },
  {
   "cell_type": "code",
   "execution_count": 17,
   "metadata": {},
   "outputs": [
    {
     "name": "stderr",
     "output_type": "stream",
     "text": [
      "/home/huhongjun/anaconda2/envs/urban/lib/python3.7/site-packages/sklearn/ensemble/forest.py:246: FutureWarning: The default value of n_estimators will change from 10 in version 0.20 to 100 in 0.22.\n",
      "  \"10 in version 0.20 to 100 in 0.22.\", FutureWarning)\n"
     ]
    },
    {
     "data": {
      "text/plain": [
       "RandomForestClassifier(bootstrap=True, class_weight=None, criterion='gini',\n",
       "            max_depth=None, max_features='auto', max_leaf_nodes=None,\n",
       "            min_impurity_decrease=0.0, min_impurity_split=None,\n",
       "            min_samples_leaf=1, min_samples_split=2,\n",
       "            min_weight_fraction_leaf=0.0, n_estimators=10, n_jobs=None,\n",
       "            oob_score=False, random_state=None, verbose=0,\n",
       "            warm_start=False)"
      ]
     },
     "execution_count": 17,
     "metadata": {},
     "output_type": "execute_result"
    }
   ],
   "source": [
    "rfc.fit(cloud_train_pp.points,cloud_train_target)"
   ]
  },
  {
   "cell_type": "code",
   "execution_count": 18,
   "metadata": {},
   "outputs": [
    {
     "name": "stdout",
     "output_type": "stream",
     "text": [
      "Accuracy: 0.976527514468343\n"
     ]
    }
   ],
   "source": [
    "# 预测训练数据\n",
    "prediction=rfc.predict(cloud_train.points)\n",
    "print(\"Accuracy:\",accuracy_score(cloud_train_target,prediction))"
   ]
  },
  {
   "cell_type": "code",
   "execution_count": 19,
   "metadata": {},
   "outputs": [],
   "source": [
    "import pickle\n",
    "filename = \"random_forest.sav\"\n",
    "pickle.dump(rfc,open(filename,'wb'))\n",
    "\n",
    "rfc_model = pickle.load(open(\"random_forest.sav\",\"rb\"))"
   ]
  },
  {
   "cell_type": "markdown",
   "metadata": {},
   "source": [
    "# Test Set Evaluation"
   ]
  },
  {
   "cell_type": "code",
   "execution_count": 13,
   "metadata": {},
   "outputs": [],
   "source": [
    "import pickle\n",
    "rfc_model = pickle.load(open(\"random_forest-201903280151.sav\",\"rb\"))"
   ]
  },
  {
   "cell_type": "code",
   "execution_count": 3,
   "metadata": {},
   "outputs": [
    {
     "name": "stdout",
     "output_type": "stream",
     "text": [
      "PyntCloud\n",
      "1133888 points with 10 scalar fields\n",
      "0 faces in mesh\n",
      "0 kdtrees\n",
      "0 voxelgrids\n",
      "Centroid: 120.52012755394719, 63.5133796625337, 12.194775588378619\n",
      "Other attributes:\n",
      "\t las_header: <class 'laspy.header.HeaderManager'>\n",
      "\n"
     ]
    }
   ],
   "source": [
    "# 测试集数据\n",
    "\n",
    "cloud_test=PyntCloud.from_file(\"./data/yupont/cz_1-9_buildings2.las\")\n",
    "print(cloud_test)\n",
    "\n",
    "#cloud_test.plot()"
   ]
  },
  {
   "cell_type": "code",
   "execution_count": 7,
   "metadata": {},
   "outputs": [
    {
     "data": {
      "text/html": [
       "<div>\n",
       "<style scoped>\n",
       "    .dataframe tbody tr th:only-of-type {\n",
       "        vertical-align: middle;\n",
       "    }\n",
       "\n",
       "    .dataframe tbody tr th {\n",
       "        vertical-align: top;\n",
       "    }\n",
       "\n",
       "    .dataframe thead th {\n",
       "        text-align: right;\n",
       "    }\n",
       "</style>\n",
       "<table border=\"1\" class=\"dataframe\">\n",
       "  <thead>\n",
       "    <tr style=\"text-align: right;\">\n",
       "      <th></th>\n",
       "      <th>x</th>\n",
       "      <th>y</th>\n",
       "      <th>z</th>\n",
       "      <th>label</th>\n",
       "      <th>reflectance</th>\n",
       "      <th>class</th>\n",
       "      <th>scan_angle_rank</th>\n",
       "      <th>user_data</th>\n",
       "      <th>pt_src_id</th>\n",
       "      <th>gps_time</th>\n",
       "      <th>red</th>\n",
       "      <th>green</th>\n",
       "      <th>blue</th>\n",
       "    </tr>\n",
       "  </thead>\n",
       "  <tbody>\n",
       "    <tr>\n",
       "      <th>0</th>\n",
       "      <td>162.449997</td>\n",
       "      <td>1.480003</td>\n",
       "      <td>18.179998</td>\n",
       "      <td>175</td>\n",
       "      <td>9</td>\n",
       "      <td>6</td>\n",
       "      <td>0</td>\n",
       "      <td>1</td>\n",
       "      <td>2</td>\n",
       "      <td>458929.6574</td>\n",
       "      <td>36864</td>\n",
       "      <td>37888</td>\n",
       "      <td>37632</td>\n",
       "    </tr>\n",
       "    <tr>\n",
       "      <th>1</th>\n",
       "      <td>162.180000</td>\n",
       "      <td>1.459999</td>\n",
       "      <td>18.210001</td>\n",
       "      <td>135</td>\n",
       "      <td>9</td>\n",
       "      <td>6</td>\n",
       "      <td>0</td>\n",
       "      <td>1</td>\n",
       "      <td>2</td>\n",
       "      <td>458929.6684</td>\n",
       "      <td>36608</td>\n",
       "      <td>37888</td>\n",
       "      <td>37632</td>\n",
       "    </tr>\n",
       "    <tr>\n",
       "      <th>2</th>\n",
       "      <td>162.239998</td>\n",
       "      <td>1.540001</td>\n",
       "      <td>18.219999</td>\n",
       "      <td>144</td>\n",
       "      <td>9</td>\n",
       "      <td>6</td>\n",
       "      <td>0</td>\n",
       "      <td>1</td>\n",
       "      <td>2</td>\n",
       "      <td>458929.6684</td>\n",
       "      <td>40192</td>\n",
       "      <td>41984</td>\n",
       "      <td>40960</td>\n",
       "    </tr>\n",
       "    <tr>\n",
       "      <th>3</th>\n",
       "      <td>162.300003</td>\n",
       "      <td>1.620003</td>\n",
       "      <td>18.250002</td>\n",
       "      <td>190</td>\n",
       "      <td>9</td>\n",
       "      <td>6</td>\n",
       "      <td>0</td>\n",
       "      <td>1</td>\n",
       "      <td>2</td>\n",
       "      <td>458929.6684</td>\n",
       "      <td>39424</td>\n",
       "      <td>40192</td>\n",
       "      <td>39680</td>\n",
       "    </tr>\n",
       "    <tr>\n",
       "      <th>4</th>\n",
       "      <td>162.360001</td>\n",
       "      <td>1.699997</td>\n",
       "      <td>18.280001</td>\n",
       "      <td>150</td>\n",
       "      <td>9</td>\n",
       "      <td>6</td>\n",
       "      <td>0</td>\n",
       "      <td>1</td>\n",
       "      <td>2</td>\n",
       "      <td>458929.6684</td>\n",
       "      <td>35840</td>\n",
       "      <td>36864</td>\n",
       "      <td>36096</td>\n",
       "    </tr>\n",
       "  </tbody>\n",
       "</table>\n",
       "</div>"
      ],
      "text/plain": [
       "            x         y          z  label  reflectance  class  \\\n",
       "0  162.449997  1.480003  18.179998    175            9      6   \n",
       "1  162.180000  1.459999  18.210001    135            9      6   \n",
       "2  162.239998  1.540001  18.219999    144            9      6   \n",
       "3  162.300003  1.620003  18.250002    190            9      6   \n",
       "4  162.360001  1.699997  18.280001    150            9      6   \n",
       "\n",
       "   scan_angle_rank  user_data  pt_src_id     gps_time    red  green   blue  \n",
       "0                0          1          2  458929.6574  36864  37888  37632  \n",
       "1                0          1          2  458929.6684  36608  37888  37632  \n",
       "2                0          1          2  458929.6684  40192  41984  40960  \n",
       "3                0          1          2  458929.6684  39424  40192  39680  \n",
       "4                0          1          2  458929.6684  35840  36864  36096  "
      ]
     },
     "execution_count": 7,
     "metadata": {},
     "output_type": "execute_result"
    }
   ],
   "source": [
    "cloud_test.points.head()\n"
   ]
  },
  {
   "cell_type": "code",
   "execution_count": null,
   "metadata": {},
   "outputs": [],
   "source": [
    "cloud_test.points.rename(columns={\n",
    "    \"raw_classification\":'class',\n",
    "    \"intensity\":'label',\n",
    "    \"flag_byte\":'reflectance'},inplace=True)"
   ]
  },
  {
   "cell_type": "code",
   "execution_count": 8,
   "metadata": {},
   "outputs": [
    {
     "data": {
      "text/html": [
       "<div>\n",
       "<style scoped>\n",
       "    .dataframe tbody tr th:only-of-type {\n",
       "        vertical-align: middle;\n",
       "    }\n",
       "\n",
       "    .dataframe tbody tr th {\n",
       "        vertical-align: top;\n",
       "    }\n",
       "\n",
       "    .dataframe thead th {\n",
       "        text-align: right;\n",
       "    }\n",
       "</style>\n",
       "<table border=\"1\" class=\"dataframe\">\n",
       "  <thead>\n",
       "    <tr style=\"text-align: right;\">\n",
       "      <th></th>\n",
       "      <th>x</th>\n",
       "      <th>y</th>\n",
       "      <th>z</th>\n",
       "      <th>label</th>\n",
       "      <th>reflectance</th>\n",
       "      <th>class</th>\n",
       "    </tr>\n",
       "  </thead>\n",
       "  <tbody>\n",
       "    <tr>\n",
       "      <th>0</th>\n",
       "      <td>162.449997</td>\n",
       "      <td>1.480003</td>\n",
       "      <td>18.179998</td>\n",
       "      <td>175</td>\n",
       "      <td>9</td>\n",
       "      <td>6</td>\n",
       "    </tr>\n",
       "    <tr>\n",
       "      <th>1</th>\n",
       "      <td>162.180000</td>\n",
       "      <td>1.459999</td>\n",
       "      <td>18.210001</td>\n",
       "      <td>135</td>\n",
       "      <td>9</td>\n",
       "      <td>6</td>\n",
       "    </tr>\n",
       "    <tr>\n",
       "      <th>2</th>\n",
       "      <td>162.239998</td>\n",
       "      <td>1.540001</td>\n",
       "      <td>18.219999</td>\n",
       "      <td>144</td>\n",
       "      <td>9</td>\n",
       "      <td>6</td>\n",
       "    </tr>\n",
       "    <tr>\n",
       "      <th>3</th>\n",
       "      <td>162.300003</td>\n",
       "      <td>1.620003</td>\n",
       "      <td>18.250002</td>\n",
       "      <td>190</td>\n",
       "      <td>9</td>\n",
       "      <td>6</td>\n",
       "    </tr>\n",
       "    <tr>\n",
       "      <th>4</th>\n",
       "      <td>162.360001</td>\n",
       "      <td>1.699997</td>\n",
       "      <td>18.280001</td>\n",
       "      <td>150</td>\n",
       "      <td>9</td>\n",
       "      <td>6</td>\n",
       "    </tr>\n",
       "  </tbody>\n",
       "</table>\n",
       "</div>"
      ],
      "text/plain": [
       "            x         y          z  label  reflectance  class\n",
       "0  162.449997  1.480003  18.179998    175            9      6\n",
       "1  162.180000  1.459999  18.210001    135            9      6\n",
       "2  162.239998  1.540001  18.219999    144            9      6\n",
       "3  162.300003  1.620003  18.250002    190            9      6\n",
       "4  162.360001  1.699997  18.280001    150            9      6"
      ]
     },
     "execution_count": 8,
     "metadata": {},
     "output_type": "execute_result"
    }
   ],
   "source": [
    "cloud_test.points.drop(labels=[\"red\",\"green\",\"blue\",\"scan_angle_rank\",\"user_data\",\"pt_src_id\",\"gps_time\"],inplace=True,axis=1)\n",
    "\n",
    "cloud_test.points.head()"
   ]
  },
  {
   "cell_type": "code",
   "execution_count": 9,
   "metadata": {},
   "outputs": [
    {
     "data": {
      "text/plain": [
       "5     429346\n",
       "4     363239\n",
       "3     277037\n",
       "18     23418\n",
       "8      18399\n",
       "6       9436\n",
       "17      6306\n",
       "16      3331\n",
       "19      1778\n",
       "20      1598\n",
       "Name: class, dtype: int64"
      ]
     },
     "execution_count": 9,
     "metadata": {},
     "output_type": "execute_result"
    }
   ],
   "source": [
    "cloud_test.points[\"class\"].value_counts()"
   ]
  },
  {
   "cell_type": "markdown",
   "metadata": {},
   "source": [
    "测试集数据同样需要做数据预处理，提取相关特征。"
   ]
  },
  {
   "cell_type": "code",
   "execution_count": 20,
   "metadata": {},
   "outputs": [],
   "source": [
    "#Downsampling not required as the dataset is already cleaned\n",
    "#voxel grid downsampling will be done here\n",
    "#open3d.voxelgrid_downsampling(cloud1,voxel=0.5)\n",
    "#p linkage segmentation and shape distribution histogram"
   ]
  },
  {
   "cell_type": "code",
   "execution_count": 10,
   "metadata": {},
   "outputs": [],
   "source": [
    "#cloud_test=PyntCloud(cloud_test.points[cloud_test.points[\"class\"]!=2])\n",
    "#cloud_test=PyntCloud(cloud_test.points[cloud_test.points[\"class\"]!=1])\n",
    "\n",
    "cloud_test_target=cloud_test.points[\"class\"]\n",
    "cloud_test.points.drop(labels=[\"class\"],inplace=True,axis=1)\n",
    "\n",
    "cloud_test_pp = preProcessData(cloud_test)\n",
    "cloud_test_pp.points.drop(labels=[\"label\"],inplace=True,axis=1)\n",
    "cloud_test_pp.points.drop(labels=[\"x\",\"y\",\"z\",\"reflectance\"],inplace=True,axis=1)  "
   ]
  },
  {
   "cell_type": "code",
   "execution_count": 11,
   "metadata": {},
   "outputs": [
    {
     "data": {
      "text/html": [
       "<div>\n",
       "<style scoped>\n",
       "    .dataframe tbody tr th:only-of-type {\n",
       "        vertical-align: middle;\n",
       "    }\n",
       "\n",
       "    .dataframe tbody tr th {\n",
       "        vertical-align: top;\n",
       "    }\n",
       "\n",
       "    .dataframe thead th {\n",
       "        text-align: right;\n",
       "    }\n",
       "</style>\n",
       "<table border=\"1\" class=\"dataframe\">\n",
       "  <thead>\n",
       "    <tr style=\"text-align: right;\">\n",
       "      <th></th>\n",
       "      <th>e1(51)</th>\n",
       "      <th>e2(51)</th>\n",
       "      <th>e3(51)</th>\n",
       "      <th>anisotropy(51)</th>\n",
       "      <th>curvature(51)</th>\n",
       "      <th>eigenentropy(51)</th>\n",
       "      <th>eigen_sum(51)</th>\n",
       "      <th>linearity(51)</th>\n",
       "      <th>omnivariance(51)</th>\n",
       "      <th>planarity(51)</th>\n",
       "      <th>sphericity(51)</th>\n",
       "    </tr>\n",
       "  </thead>\n",
       "  <tbody>\n",
       "    <tr>\n",
       "      <th>0</th>\n",
       "      <td>0.127866</td>\n",
       "      <td>0.043123</td>\n",
       "      <td>0.000088</td>\n",
       "      <td>0.999309</td>\n",
       "      <td>0.000516</td>\n",
       "      <td>0.399382</td>\n",
       "      <td>0.171077</td>\n",
       "      <td>0.662748</td>\n",
       "      <td>0.007868</td>\n",
       "      <td>0.336562</td>\n",
       "      <td>0.000691</td>\n",
       "    </tr>\n",
       "    <tr>\n",
       "      <th>1</th>\n",
       "      <td>0.135605</td>\n",
       "      <td>0.039848</td>\n",
       "      <td>0.000102</td>\n",
       "      <td>0.999251</td>\n",
       "      <td>0.000579</td>\n",
       "      <td>0.400292</td>\n",
       "      <td>0.175554</td>\n",
       "      <td>0.706145</td>\n",
       "      <td>0.008187</td>\n",
       "      <td>0.293106</td>\n",
       "      <td>0.000749</td>\n",
       "    </tr>\n",
       "    <tr>\n",
       "      <th>2</th>\n",
       "      <td>0.115700</td>\n",
       "      <td>0.044413</td>\n",
       "      <td>0.000076</td>\n",
       "      <td>0.999340</td>\n",
       "      <td>0.000477</td>\n",
       "      <td>0.388571</td>\n",
       "      <td>0.160189</td>\n",
       "      <td>0.616140</td>\n",
       "      <td>0.007320</td>\n",
       "      <td>0.383200</td>\n",
       "      <td>0.000660</td>\n",
       "    </tr>\n",
       "    <tr>\n",
       "      <th>3</th>\n",
       "      <td>0.107751</td>\n",
       "      <td>0.047999</td>\n",
       "      <td>0.000087</td>\n",
       "      <td>0.999192</td>\n",
       "      <td>0.000559</td>\n",
       "      <td>0.386627</td>\n",
       "      <td>0.155836</td>\n",
       "      <td>0.554539</td>\n",
       "      <td>0.007665</td>\n",
       "      <td>0.444653</td>\n",
       "      <td>0.000808</td>\n",
       "    </tr>\n",
       "    <tr>\n",
       "      <th>4</th>\n",
       "      <td>0.089657</td>\n",
       "      <td>0.057329</td>\n",
       "      <td>0.000096</td>\n",
       "      <td>0.998927</td>\n",
       "      <td>0.000654</td>\n",
       "      <td>0.381020</td>\n",
       "      <td>0.147081</td>\n",
       "      <td>0.360576</td>\n",
       "      <td>0.007907</td>\n",
       "      <td>0.638352</td>\n",
       "      <td>0.001073</td>\n",
       "    </tr>\n",
       "  </tbody>\n",
       "</table>\n",
       "</div>"
      ],
      "text/plain": [
       "     e1(51)    e2(51)    e3(51)  anisotropy(51)  curvature(51)  \\\n",
       "0  0.127866  0.043123  0.000088        0.999309       0.000516   \n",
       "1  0.135605  0.039848  0.000102        0.999251       0.000579   \n",
       "2  0.115700  0.044413  0.000076        0.999340       0.000477   \n",
       "3  0.107751  0.047999  0.000087        0.999192       0.000559   \n",
       "4  0.089657  0.057329  0.000096        0.998927       0.000654   \n",
       "\n",
       "   eigenentropy(51)  eigen_sum(51)  linearity(51)  omnivariance(51)  \\\n",
       "0          0.399382       0.171077       0.662748          0.007868   \n",
       "1          0.400292       0.175554       0.706145          0.008187   \n",
       "2          0.388571       0.160189       0.616140          0.007320   \n",
       "3          0.386627       0.155836       0.554539          0.007665   \n",
       "4          0.381020       0.147081       0.360576          0.007907   \n",
       "\n",
       "   planarity(51)  sphericity(51)  \n",
       "0       0.336562        0.000691  \n",
       "1       0.293106        0.000749  \n",
       "2       0.383200        0.000660  \n",
       "3       0.444653        0.000808  \n",
       "4       0.638352        0.001073  "
      ]
     },
     "execution_count": 11,
     "metadata": {},
     "output_type": "execute_result"
    }
   ],
   "source": [
    "cloud_test_pp.points.head()"
   ]
  },
  {
   "cell_type": "code",
   "execution_count": 14,
   "metadata": {},
   "outputs": [
    {
     "name": "stdout",
     "output_type": "stream",
     "text": [
      "Accuracy: 0.37351572642095165\n"
     ]
    }
   ],
   "source": [
    "prediction_test=rfc_model.predict(cloud_test_pp.points)\n",
    "print(\"Accuracy:\",accuracy_score(cloud_test_target,prediction_test))"
   ]
  },
  {
   "cell_type": "code",
   "execution_count": null,
   "metadata": {},
   "outputs": [],
   "source": []
  }
 ],
 "metadata": {
  "kernelspec": {
   "display_name": "Python3.7(Urban)",
   "language": "python",
   "name": "urban"
  },
  "language_info": {
   "codemirror_mode": {
    "name": "ipython",
    "version": 3
   },
   "file_extension": ".py",
   "mimetype": "text/x-python",
   "name": "python",
   "nbconvert_exporter": "python",
   "pygments_lexer": "ipython3",
   "version": "3.7.2"
  }
 },
 "nbformat": 4,
 "nbformat_minor": 2
}
